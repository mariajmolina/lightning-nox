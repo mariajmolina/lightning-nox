{
  "nbformat": 4,
  "nbformat_minor": 0,
  "metadata": {
    "colab": {
      "provenance": [],
      "authorship_tag": "ABX9TyP3cMOOxhKTn2COwDvEkoEh",
      "include_colab_link": true
    },
    "kernelspec": {
      "name": "python3",
      "display_name": "Python 3"
    },
    "language_info": {
      "name": "python"
    }
  },
  "cells": [
    {
      "cell_type": "markdown",
      "metadata": {
        "id": "view-in-github",
        "colab_type": "text"
      },
      "source": [
        "<a href=\"https://colab.research.google.com/github/rinelise/lightning-nox/blob/main/nn_flashfreq.ipynb\" target=\"_parent\"><img src=\"https://colab.research.google.com/assets/colab-badge.svg\" alt=\"Open In Colab\"/></a>"
      ]
    },
    {
      "cell_type": "code",
      "execution_count": 1,
      "metadata": {
        "id": "BseMWsVgD2-O",
        "colab": {
          "base_uri": "https://localhost:8080/"
        },
        "outputId": "a6b3c703-1fbb-4386-ec76-6cf20f30d108"
      },
      "outputs": [
        {
          "output_type": "stream",
          "name": "stdout",
          "text": [
            "Drive already mounted at /content/drive; to attempt to forcibly remount, call drive.mount(\"/content/drive\", force_remount=True).\n"
          ]
        }
      ],
      "source": [
        "import numpy as np\n",
        "import matplotlib.pyplot as plt\n",
        "import pandas as pd\n",
        "import xarray as xr\n",
        "import keras\n",
        "import sklearn\n",
        "#import lightningutil\n",
        "from google.colab import drive\n",
        "drive.mount('/content/drive')"
      ]
    },
    {
      "cell_type": "code",
      "source": [
        "!pip install cartopy #for lightningutil"
      ],
      "metadata": {
        "colab": {
          "base_uri": "https://localhost:8080/"
        },
        "id": "sXf0AzrJxZgm",
        "outputId": "6fad9869-b49f-43cb-c655-43fc55ab3728"
      },
      "execution_count": 2,
      "outputs": [
        {
          "output_type": "stream",
          "name": "stdout",
          "text": [
            "Requirement already satisfied: cartopy in /usr/local/lib/python3.10/dist-packages (0.23.0)\n",
            "Requirement already satisfied: numpy>=1.21 in /usr/local/lib/python3.10/dist-packages (from cartopy) (1.25.2)\n",
            "Requirement already satisfied: matplotlib>=3.5 in /usr/local/lib/python3.10/dist-packages (from cartopy) (3.7.1)\n",
            "Requirement already satisfied: shapely>=1.7 in /usr/local/lib/python3.10/dist-packages (from cartopy) (2.0.4)\n",
            "Requirement already satisfied: packaging>=20 in /usr/local/lib/python3.10/dist-packages (from cartopy) (24.0)\n",
            "Requirement already satisfied: pyshp>=2.3 in /usr/local/lib/python3.10/dist-packages (from cartopy) (2.3.1)\n",
            "Requirement already satisfied: pyproj>=3.3.1 in /usr/local/lib/python3.10/dist-packages (from cartopy) (3.6.1)\n",
            "Requirement already satisfied: contourpy>=1.0.1 in /usr/local/lib/python3.10/dist-packages (from matplotlib>=3.5->cartopy) (1.2.1)\n",
            "Requirement already satisfied: cycler>=0.10 in /usr/local/lib/python3.10/dist-packages (from matplotlib>=3.5->cartopy) (0.12.1)\n",
            "Requirement already satisfied: fonttools>=4.22.0 in /usr/local/lib/python3.10/dist-packages (from matplotlib>=3.5->cartopy) (4.51.0)\n",
            "Requirement already satisfied: kiwisolver>=1.0.1 in /usr/local/lib/python3.10/dist-packages (from matplotlib>=3.5->cartopy) (1.4.5)\n",
            "Requirement already satisfied: pillow>=6.2.0 in /usr/local/lib/python3.10/dist-packages (from matplotlib>=3.5->cartopy) (9.4.0)\n",
            "Requirement already satisfied: pyparsing>=2.3.1 in /usr/local/lib/python3.10/dist-packages (from matplotlib>=3.5->cartopy) (3.1.2)\n",
            "Requirement already satisfied: python-dateutil>=2.7 in /usr/local/lib/python3.10/dist-packages (from matplotlib>=3.5->cartopy) (2.8.2)\n",
            "Requirement already satisfied: certifi in /usr/local/lib/python3.10/dist-packages (from pyproj>=3.3.1->cartopy) (2024.2.2)\n",
            "Requirement already satisfied: six>=1.5 in /usr/local/lib/python3.10/dist-packages (from python-dateutil>=2.7->matplotlib>=3.5->cartopy) (1.16.0)\n"
          ]
        }
      ]
    },
    {
      "cell_type": "code",
      "source": [
        "import sys\n",
        "# Append the directory to your python path using sys\n",
        "sys.path.append('/content/drive/MyDrive/colab')\n",
        "# Import the module\n",
        "import lightningutil"
      ],
      "metadata": {
        "id": "hl_TOCn5yXxA"
      },
      "execution_count": 3,
      "outputs": []
    },
    {
      "cell_type": "markdown",
      "source": [
        "## preprocess - check out the raw data\n",
        "\n"
      ],
      "metadata": {
        "id": "ywdRpzuz0bE-"
      }
    },
    {
      "cell_type": "markdown",
      "source": [
        "checking out the raw data"
      ],
      "metadata": {
        "id": "cVY91hleeDWg"
      }
    },
    {
      "cell_type": "code",
      "source": [
        "ds_glm = xr.open_dataset('/content/drive/My Drive/colab/GLMmax_hrly_count_f.nominalq.UT.t201907.r180W-30W_50S-50N.nc')\n",
        "ds_geos_cape = xr.open_dataset('/content/drive/My Drive/colab/GEOS_cape_hrly.UT.t201907.r180W-30W_50S-50N.nc')\n",
        "ds_geos_precon = xr.open_dataset('/content/drive/My Drive/colab/GEOS_precon_hrly.UT.t201907.r180W-30W_50S-50N.nc')\n",
        "ds_geos_cldht = xr.open_dataset('/content/drive/My Drive/colab/GEOS_cldht_hrly.UT.t201907.r180W-30W_50S-50N.nc')"
      ],
      "metadata": {
        "id": "XVMG9-evkPrR"
      },
      "execution_count": 4,
      "outputs": []
    },
    {
      "cell_type": "code",
      "source": [
        "ds_glm"
      ],
      "metadata": {
        "colab": {
          "base_uri": "https://localhost:8080/",
          "height": 270
        },
        "id": "Epmi5BXAqj7w",
        "outputId": "23f1bab2-603f-4609-bdf1-a5ef11e5a619"
      },
      "execution_count": 75,
      "outputs": [
        {
          "output_type": "execute_result",
          "data": {
            "text/plain": [
              "<xarray.Dataset>\n",
              "Dimensions:    (Longitudes: 300, Latitudes: 200, Hours: 24, Days: 31)\n",
              "Dimensions without coordinates: Longitudes, Latitudes, Hours, Days\n",
              "Data variables:\n",
              "    longitude  (Longitudes) float32 ...\n",
              "    latitude   (Latitudes) float32 ...\n",
              "    time       (Hours) float32 ...\n",
              "    flashes    (Days, Hours, Latitudes, Longitudes) float32 ..."
            ],
            "text/html": [
              "<div><svg style=\"position: absolute; width: 0; height: 0; overflow: hidden\">\n",
              "<defs>\n",
              "<symbol id=\"icon-database\" viewBox=\"0 0 32 32\">\n",
              "<path d=\"M16 0c-8.837 0-16 2.239-16 5v4c0 2.761 7.163 5 16 5s16-2.239 16-5v-4c0-2.761-7.163-5-16-5z\"></path>\n",
              "<path d=\"M16 17c-8.837 0-16-2.239-16-5v6c0 2.761 7.163 5 16 5s16-2.239 16-5v-6c0 2.761-7.163 5-16 5z\"></path>\n",
              "<path d=\"M16 26c-8.837 0-16-2.239-16-5v6c0 2.761 7.163 5 16 5s16-2.239 16-5v-6c0 2.761-7.163 5-16 5z\"></path>\n",
              "</symbol>\n",
              "<symbol id=\"icon-file-text2\" viewBox=\"0 0 32 32\">\n",
              "<path d=\"M28.681 7.159c-0.694-0.947-1.662-2.053-2.724-3.116s-2.169-2.030-3.116-2.724c-1.612-1.182-2.393-1.319-2.841-1.319h-15.5c-1.378 0-2.5 1.121-2.5 2.5v27c0 1.378 1.122 2.5 2.5 2.5h23c1.378 0 2.5-1.122 2.5-2.5v-19.5c0-0.448-0.137-1.23-1.319-2.841zM24.543 5.457c0.959 0.959 1.712 1.825 2.268 2.543h-4.811v-4.811c0.718 0.556 1.584 1.309 2.543 2.268zM28 29.5c0 0.271-0.229 0.5-0.5 0.5h-23c-0.271 0-0.5-0.229-0.5-0.5v-27c0-0.271 0.229-0.5 0.5-0.5 0 0 15.499-0 15.5 0v7c0 0.552 0.448 1 1 1h7v19.5z\"></path>\n",
              "<path d=\"M23 26h-14c-0.552 0-1-0.448-1-1s0.448-1 1-1h14c0.552 0 1 0.448 1 1s-0.448 1-1 1z\"></path>\n",
              "<path d=\"M23 22h-14c-0.552 0-1-0.448-1-1s0.448-1 1-1h14c0.552 0 1 0.448 1 1s-0.448 1-1 1z\"></path>\n",
              "<path d=\"M23 18h-14c-0.552 0-1-0.448-1-1s0.448-1 1-1h14c0.552 0 1 0.448 1 1s-0.448 1-1 1z\"></path>\n",
              "</symbol>\n",
              "</defs>\n",
              "</svg>\n",
              "<style>/* CSS stylesheet for displaying xarray objects in jupyterlab.\n",
              " *\n",
              " */\n",
              "\n",
              ":root {\n",
              "  --xr-font-color0: var(--jp-content-font-color0, rgba(0, 0, 0, 1));\n",
              "  --xr-font-color2: var(--jp-content-font-color2, rgba(0, 0, 0, 0.54));\n",
              "  --xr-font-color3: var(--jp-content-font-color3, rgba(0, 0, 0, 0.38));\n",
              "  --xr-border-color: var(--jp-border-color2, #e0e0e0);\n",
              "  --xr-disabled-color: var(--jp-layout-color3, #bdbdbd);\n",
              "  --xr-background-color: var(--jp-layout-color0, white);\n",
              "  --xr-background-color-row-even: var(--jp-layout-color1, white);\n",
              "  --xr-background-color-row-odd: var(--jp-layout-color2, #eeeeee);\n",
              "}\n",
              "\n",
              "html[theme=dark],\n",
              "body[data-theme=dark],\n",
              "body.vscode-dark {\n",
              "  --xr-font-color0: rgba(255, 255, 255, 1);\n",
              "  --xr-font-color2: rgba(255, 255, 255, 0.54);\n",
              "  --xr-font-color3: rgba(255, 255, 255, 0.38);\n",
              "  --xr-border-color: #1F1F1F;\n",
              "  --xr-disabled-color: #515151;\n",
              "  --xr-background-color: #111111;\n",
              "  --xr-background-color-row-even: #111111;\n",
              "  --xr-background-color-row-odd: #313131;\n",
              "}\n",
              "\n",
              ".xr-wrap {\n",
              "  display: block !important;\n",
              "  min-width: 300px;\n",
              "  max-width: 700px;\n",
              "}\n",
              "\n",
              ".xr-text-repr-fallback {\n",
              "  /* fallback to plain text repr when CSS is not injected (untrusted notebook) */\n",
              "  display: none;\n",
              "}\n",
              "\n",
              ".xr-header {\n",
              "  padding-top: 6px;\n",
              "  padding-bottom: 6px;\n",
              "  margin-bottom: 4px;\n",
              "  border-bottom: solid 1px var(--xr-border-color);\n",
              "}\n",
              "\n",
              ".xr-header > div,\n",
              ".xr-header > ul {\n",
              "  display: inline;\n",
              "  margin-top: 0;\n",
              "  margin-bottom: 0;\n",
              "}\n",
              "\n",
              ".xr-obj-type,\n",
              ".xr-array-name {\n",
              "  margin-left: 2px;\n",
              "  margin-right: 10px;\n",
              "}\n",
              "\n",
              ".xr-obj-type {\n",
              "  color: var(--xr-font-color2);\n",
              "}\n",
              "\n",
              ".xr-sections {\n",
              "  padding-left: 0 !important;\n",
              "  display: grid;\n",
              "  grid-template-columns: 150px auto auto 1fr 20px 20px;\n",
              "}\n",
              "\n",
              ".xr-section-item {\n",
              "  display: contents;\n",
              "}\n",
              "\n",
              ".xr-section-item input {\n",
              "  display: none;\n",
              "}\n",
              "\n",
              ".xr-section-item input + label {\n",
              "  color: var(--xr-disabled-color);\n",
              "}\n",
              "\n",
              ".xr-section-item input:enabled + label {\n",
              "  cursor: pointer;\n",
              "  color: var(--xr-font-color2);\n",
              "}\n",
              "\n",
              ".xr-section-item input:enabled + label:hover {\n",
              "  color: var(--xr-font-color0);\n",
              "}\n",
              "\n",
              ".xr-section-summary {\n",
              "  grid-column: 1;\n",
              "  color: var(--xr-font-color2);\n",
              "  font-weight: 500;\n",
              "}\n",
              "\n",
              ".xr-section-summary > span {\n",
              "  display: inline-block;\n",
              "  padding-left: 0.5em;\n",
              "}\n",
              "\n",
              ".xr-section-summary-in:disabled + label {\n",
              "  color: var(--xr-font-color2);\n",
              "}\n",
              "\n",
              ".xr-section-summary-in + label:before {\n",
              "  display: inline-block;\n",
              "  content: '►';\n",
              "  font-size: 11px;\n",
              "  width: 15px;\n",
              "  text-align: center;\n",
              "}\n",
              "\n",
              ".xr-section-summary-in:disabled + label:before {\n",
              "  color: var(--xr-disabled-color);\n",
              "}\n",
              "\n",
              ".xr-section-summary-in:checked + label:before {\n",
              "  content: '▼';\n",
              "}\n",
              "\n",
              ".xr-section-summary-in:checked + label > span {\n",
              "  display: none;\n",
              "}\n",
              "\n",
              ".xr-section-summary,\n",
              ".xr-section-inline-details {\n",
              "  padding-top: 4px;\n",
              "  padding-bottom: 4px;\n",
              "}\n",
              "\n",
              ".xr-section-inline-details {\n",
              "  grid-column: 2 / -1;\n",
              "}\n",
              "\n",
              ".xr-section-details {\n",
              "  display: none;\n",
              "  grid-column: 1 / -1;\n",
              "  margin-bottom: 5px;\n",
              "}\n",
              "\n",
              ".xr-section-summary-in:checked ~ .xr-section-details {\n",
              "  display: contents;\n",
              "}\n",
              "\n",
              ".xr-array-wrap {\n",
              "  grid-column: 1 / -1;\n",
              "  display: grid;\n",
              "  grid-template-columns: 20px auto;\n",
              "}\n",
              "\n",
              ".xr-array-wrap > label {\n",
              "  grid-column: 1;\n",
              "  vertical-align: top;\n",
              "}\n",
              "\n",
              ".xr-preview {\n",
              "  color: var(--xr-font-color3);\n",
              "}\n",
              "\n",
              ".xr-array-preview,\n",
              ".xr-array-data {\n",
              "  padding: 0 5px !important;\n",
              "  grid-column: 2;\n",
              "}\n",
              "\n",
              ".xr-array-data,\n",
              ".xr-array-in:checked ~ .xr-array-preview {\n",
              "  display: none;\n",
              "}\n",
              "\n",
              ".xr-array-in:checked ~ .xr-array-data,\n",
              ".xr-array-preview {\n",
              "  display: inline-block;\n",
              "}\n",
              "\n",
              ".xr-dim-list {\n",
              "  display: inline-block !important;\n",
              "  list-style: none;\n",
              "  padding: 0 !important;\n",
              "  margin: 0;\n",
              "}\n",
              "\n",
              ".xr-dim-list li {\n",
              "  display: inline-block;\n",
              "  padding: 0;\n",
              "  margin: 0;\n",
              "}\n",
              "\n",
              ".xr-dim-list:before {\n",
              "  content: '(';\n",
              "}\n",
              "\n",
              ".xr-dim-list:after {\n",
              "  content: ')';\n",
              "}\n",
              "\n",
              ".xr-dim-list li:not(:last-child):after {\n",
              "  content: ',';\n",
              "  padding-right: 5px;\n",
              "}\n",
              "\n",
              ".xr-has-index {\n",
              "  font-weight: bold;\n",
              "}\n",
              "\n",
              ".xr-var-list,\n",
              ".xr-var-item {\n",
              "  display: contents;\n",
              "}\n",
              "\n",
              ".xr-var-item > div,\n",
              ".xr-var-item label,\n",
              ".xr-var-item > .xr-var-name span {\n",
              "  background-color: var(--xr-background-color-row-even);\n",
              "  margin-bottom: 0;\n",
              "}\n",
              "\n",
              ".xr-var-item > .xr-var-name:hover span {\n",
              "  padding-right: 5px;\n",
              "}\n",
              "\n",
              ".xr-var-list > li:nth-child(odd) > div,\n",
              ".xr-var-list > li:nth-child(odd) > label,\n",
              ".xr-var-list > li:nth-child(odd) > .xr-var-name span {\n",
              "  background-color: var(--xr-background-color-row-odd);\n",
              "}\n",
              "\n",
              ".xr-var-name {\n",
              "  grid-column: 1;\n",
              "}\n",
              "\n",
              ".xr-var-dims {\n",
              "  grid-column: 2;\n",
              "}\n",
              "\n",
              ".xr-var-dtype {\n",
              "  grid-column: 3;\n",
              "  text-align: right;\n",
              "  color: var(--xr-font-color2);\n",
              "}\n",
              "\n",
              ".xr-var-preview {\n",
              "  grid-column: 4;\n",
              "}\n",
              "\n",
              ".xr-index-preview {\n",
              "  grid-column: 2 / 5;\n",
              "  color: var(--xr-font-color2);\n",
              "}\n",
              "\n",
              ".xr-var-name,\n",
              ".xr-var-dims,\n",
              ".xr-var-dtype,\n",
              ".xr-preview,\n",
              ".xr-attrs dt {\n",
              "  white-space: nowrap;\n",
              "  overflow: hidden;\n",
              "  text-overflow: ellipsis;\n",
              "  padding-right: 10px;\n",
              "}\n",
              "\n",
              ".xr-var-name:hover,\n",
              ".xr-var-dims:hover,\n",
              ".xr-var-dtype:hover,\n",
              ".xr-attrs dt:hover {\n",
              "  overflow: visible;\n",
              "  width: auto;\n",
              "  z-index: 1;\n",
              "}\n",
              "\n",
              ".xr-var-attrs,\n",
              ".xr-var-data,\n",
              ".xr-index-data {\n",
              "  display: none;\n",
              "  background-color: var(--xr-background-color) !important;\n",
              "  padding-bottom: 5px !important;\n",
              "}\n",
              "\n",
              ".xr-var-attrs-in:checked ~ .xr-var-attrs,\n",
              ".xr-var-data-in:checked ~ .xr-var-data,\n",
              ".xr-index-data-in:checked ~ .xr-index-data {\n",
              "  display: block;\n",
              "}\n",
              "\n",
              ".xr-var-data > table {\n",
              "  float: right;\n",
              "}\n",
              "\n",
              ".xr-var-name span,\n",
              ".xr-var-data,\n",
              ".xr-index-name div,\n",
              ".xr-index-data,\n",
              ".xr-attrs {\n",
              "  padding-left: 25px !important;\n",
              "}\n",
              "\n",
              ".xr-attrs,\n",
              ".xr-var-attrs,\n",
              ".xr-var-data,\n",
              ".xr-index-data {\n",
              "  grid-column: 1 / -1;\n",
              "}\n",
              "\n",
              "dl.xr-attrs {\n",
              "  padding: 0;\n",
              "  margin: 0;\n",
              "  display: grid;\n",
              "  grid-template-columns: 125px auto;\n",
              "}\n",
              "\n",
              ".xr-attrs dt,\n",
              ".xr-attrs dd {\n",
              "  padding: 0;\n",
              "  margin: 0;\n",
              "  float: left;\n",
              "  padding-right: 10px;\n",
              "  width: auto;\n",
              "}\n",
              "\n",
              ".xr-attrs dt {\n",
              "  font-weight: normal;\n",
              "  grid-column: 1;\n",
              "}\n",
              "\n",
              ".xr-attrs dt:hover span {\n",
              "  display: inline-block;\n",
              "  background: var(--xr-background-color);\n",
              "  padding-right: 10px;\n",
              "}\n",
              "\n",
              ".xr-attrs dd {\n",
              "  grid-column: 2;\n",
              "  white-space: pre-wrap;\n",
              "  word-break: break-all;\n",
              "}\n",
              "\n",
              ".xr-icon-database,\n",
              ".xr-icon-file-text2,\n",
              ".xr-no-icon {\n",
              "  display: inline-block;\n",
              "  vertical-align: middle;\n",
              "  width: 1em;\n",
              "  height: 1.5em !important;\n",
              "  stroke-width: 0;\n",
              "  stroke: currentColor;\n",
              "  fill: currentColor;\n",
              "}\n",
              "</style><pre class='xr-text-repr-fallback'>&lt;xarray.Dataset&gt;\n",
              "Dimensions:    (Longitudes: 300, Latitudes: 200, Hours: 24, Days: 31)\n",
              "Dimensions without coordinates: Longitudes, Latitudes, Hours, Days\n",
              "Data variables:\n",
              "    longitude  (Longitudes) float32 ...\n",
              "    latitude   (Latitudes) float32 ...\n",
              "    time       (Hours) float32 ...\n",
              "    flashes    (Days, Hours, Latitudes, Longitudes) float32 ...</pre><div class='xr-wrap' style='display:none'><div class='xr-header'><div class='xr-obj-type'>xarray.Dataset</div></div><ul class='xr-sections'><li class='xr-section-item'><input id='section-9c8a82a9-f505-435c-9847-000aa92f0508' class='xr-section-summary-in' type='checkbox' disabled ><label for='section-9c8a82a9-f505-435c-9847-000aa92f0508' class='xr-section-summary'  title='Expand/collapse section'>Dimensions:</label><div class='xr-section-inline-details'><ul class='xr-dim-list'><li><span>Longitudes</span>: 300</li><li><span>Latitudes</span>: 200</li><li><span>Hours</span>: 24</li><li><span>Days</span>: 31</li></ul></div><div class='xr-section-details'></div></li><li class='xr-section-item'><input id='section-34d4b18e-bda3-4506-aace-3959ee92303d' class='xr-section-summary-in' type='checkbox' disabled ><label for='section-34d4b18e-bda3-4506-aace-3959ee92303d' class='xr-section-summary'  title='Expand/collapse section'>Coordinates: <span>(0)</span></label><div class='xr-section-inline-details'></div><div class='xr-section-details'><ul class='xr-var-list'></ul></div></li><li class='xr-section-item'><input id='section-46077af4-3db3-4028-9c8b-4aa481561d4a' class='xr-section-summary-in' type='checkbox'  checked><label for='section-46077af4-3db3-4028-9c8b-4aa481561d4a' class='xr-section-summary' >Data variables: <span>(4)</span></label><div class='xr-section-inline-details'></div><div class='xr-section-details'><ul class='xr-var-list'><li class='xr-var-item'><div class='xr-var-name'><span>longitude</span></div><div class='xr-var-dims'>(Longitudes)</div><div class='xr-var-dtype'>float32</div><div class='xr-var-preview xr-preview'>...</div><input id='attrs-4aa0d829-2ce6-4552-b878-b676ce3095e7' class='xr-var-attrs-in' type='checkbox' ><label for='attrs-4aa0d829-2ce6-4552-b878-b676ce3095e7' title='Show/Hide attributes'><svg class='icon xr-icon-file-text2'><use xlink:href='#icon-file-text2'></use></svg></label><input id='data-5fdecb73-9c41-425f-9182-d0e74ee2883c' class='xr-var-data-in' type='checkbox'><label for='data-5fdecb73-9c41-425f-9182-d0e74ee2883c' title='Show/Hide data repr'><svg class='icon xr-icon-database'><use xlink:href='#icon-database'></use></svg></label><div class='xr-var-attrs'><dl class='xr-attrs'><dt><span>long_name :</span></dt><dd>longitude</dd><dt><span>units :</span></dt><dd>Degrees</dd><dt><span>var_desc :</span></dt><dd>Longitude</dd></dl></div><div class='xr-var-data'><pre>[300 values with dtype=float32]</pre></div></li><li class='xr-var-item'><div class='xr-var-name'><span>latitude</span></div><div class='xr-var-dims'>(Latitudes)</div><div class='xr-var-dtype'>float32</div><div class='xr-var-preview xr-preview'>...</div><input id='attrs-6116437d-7d75-4366-ad5d-2091f243eebc' class='xr-var-attrs-in' type='checkbox' ><label for='attrs-6116437d-7d75-4366-ad5d-2091f243eebc' title='Show/Hide attributes'><svg class='icon xr-icon-file-text2'><use xlink:href='#icon-file-text2'></use></svg></label><input id='data-21f64886-c399-4728-a5e1-68beb9c85bb9' class='xr-var-data-in' type='checkbox'><label for='data-21f64886-c399-4728-a5e1-68beb9c85bb9' title='Show/Hide data repr'><svg class='icon xr-icon-database'><use xlink:href='#icon-database'></use></svg></label><div class='xr-var-attrs'><dl class='xr-attrs'><dt><span>long_name :</span></dt><dd>latitude</dd><dt><span>units :</span></dt><dd>Degrees</dd><dt><span>var_desc :</span></dt><dd>Latitude</dd></dl></div><div class='xr-var-data'><pre>[200 values with dtype=float32]</pre></div></li><li class='xr-var-item'><div class='xr-var-name'><span>time</span></div><div class='xr-var-dims'>(Hours)</div><div class='xr-var-dtype'>float32</div><div class='xr-var-preview xr-preview'>...</div><input id='attrs-a32f6788-7124-4d84-a0d7-916dc396b795' class='xr-var-attrs-in' type='checkbox' ><label for='attrs-a32f6788-7124-4d84-a0d7-916dc396b795' title='Show/Hide attributes'><svg class='icon xr-icon-file-text2'><use xlink:href='#icon-file-text2'></use></svg></label><input id='data-897e1382-ec22-4e12-92e2-f32c5cd96338' class='xr-var-data-in' type='checkbox'><label for='data-897e1382-ec22-4e12-92e2-f32c5cd96338' title='Show/Hide data repr'><svg class='icon xr-icon-database'><use xlink:href='#icon-database'></use></svg></label><div class='xr-var-attrs'><dl class='xr-attrs'><dt><span>long_name :</span></dt><dd>Time</dd><dt><span>units :</span></dt><dd>Minutes</dd><dt><span>var_desc :</span></dt><dd>Minutes since 00UT</dd></dl></div><div class='xr-var-data'><pre>[24 values with dtype=float32]</pre></div></li><li class='xr-var-item'><div class='xr-var-name'><span>flashes</span></div><div class='xr-var-dims'>(Days, Hours, Latitudes, Longitudes)</div><div class='xr-var-dtype'>float32</div><div class='xr-var-preview xr-preview'>...</div><input id='attrs-df9ffce4-987b-4249-9a2b-6dc453bed4ef' class='xr-var-attrs-in' type='checkbox' ><label for='attrs-df9ffce4-987b-4249-9a2b-6dc453bed4ef' title='Show/Hide attributes'><svg class='icon xr-icon-file-text2'><use xlink:href='#icon-file-text2'></use></svg></label><input id='data-dc43f0be-cc95-4935-bccd-835ad0348e8f' class='xr-var-data-in' type='checkbox'><label for='data-dc43f0be-cc95-4935-bccd-835ad0348e8f' title='Show/Hide data repr'><svg class='icon xr-icon-database'><use xlink:href='#icon-database'></use></svg></label><div class='xr-var-attrs'><dl class='xr-attrs'><dt><span>long_name :</span></dt><dd>Flash count</dd><dt><span>units :</span></dt><dd>Count 0.5x0.5 box-1 60min-1</dd><dt><span>var_desc :</span></dt><dd>Count of GLM Flashes</dd></dl></div><div class='xr-var-data'><pre>[44640000 values with dtype=float32]</pre></div></li></ul></div></li><li class='xr-section-item'><input id='section-9582da96-eb94-4f59-9f7d-a2c26ee34e6f' class='xr-section-summary-in' type='checkbox' disabled ><label for='section-9582da96-eb94-4f59-9f7d-a2c26ee34e6f' class='xr-section-summary'  title='Expand/collapse section'>Indexes: <span>(0)</span></label><div class='xr-section-inline-details'></div><div class='xr-section-details'><ul class='xr-var-list'></ul></div></li><li class='xr-section-item'><input id='section-7fb25c3c-d511-40fd-a548-dfc33dd6cf15' class='xr-section-summary-in' type='checkbox' disabled ><label for='section-7fb25c3c-d511-40fd-a548-dfc33dd6cf15' class='xr-section-summary'  title='Expand/collapse section'>Attributes: <span>(0)</span></label><div class='xr-section-inline-details'></div><div class='xr-section-details'><dl class='xr-attrs'></dl></div></li></ul></div></div>"
            ]
          },
          "metadata": {},
          "execution_count": 75
        }
      ]
    },
    {
      "cell_type": "code",
      "source": [
        "ds_geos_cape"
      ],
      "metadata": {
        "colab": {
          "base_uri": "https://localhost:8080/",
          "height": 270
        },
        "id": "c0zNXkrMsA0k",
        "outputId": "9b8aac79-15af-450b-890e-baf6c017c52f"
      },
      "execution_count": 76,
      "outputs": [
        {
          "output_type": "execute_result",
          "data": {
            "text/plain": [
              "<xarray.Dataset>\n",
              "Dimensions:    (Longitudes: 300, Latitudes: 200, Hours: 24, Days: 31)\n",
              "Dimensions without coordinates: Longitudes, Latitudes, Hours, Days\n",
              "Data variables:\n",
              "    longitude  (Longitudes) float32 ...\n",
              "    latitude   (Latitudes) float32 ...\n",
              "    time       (Hours) float32 ...\n",
              "    cape       (Days, Hours, Latitudes, Longitudes) float32 ..."
            ],
            "text/html": [
              "<div><svg style=\"position: absolute; width: 0; height: 0; overflow: hidden\">\n",
              "<defs>\n",
              "<symbol id=\"icon-database\" viewBox=\"0 0 32 32\">\n",
              "<path d=\"M16 0c-8.837 0-16 2.239-16 5v4c0 2.761 7.163 5 16 5s16-2.239 16-5v-4c0-2.761-7.163-5-16-5z\"></path>\n",
              "<path d=\"M16 17c-8.837 0-16-2.239-16-5v6c0 2.761 7.163 5 16 5s16-2.239 16-5v-6c0 2.761-7.163 5-16 5z\"></path>\n",
              "<path d=\"M16 26c-8.837 0-16-2.239-16-5v6c0 2.761 7.163 5 16 5s16-2.239 16-5v-6c0 2.761-7.163 5-16 5z\"></path>\n",
              "</symbol>\n",
              "<symbol id=\"icon-file-text2\" viewBox=\"0 0 32 32\">\n",
              "<path d=\"M28.681 7.159c-0.694-0.947-1.662-2.053-2.724-3.116s-2.169-2.030-3.116-2.724c-1.612-1.182-2.393-1.319-2.841-1.319h-15.5c-1.378 0-2.5 1.121-2.5 2.5v27c0 1.378 1.122 2.5 2.5 2.5h23c1.378 0 2.5-1.122 2.5-2.5v-19.5c0-0.448-0.137-1.23-1.319-2.841zM24.543 5.457c0.959 0.959 1.712 1.825 2.268 2.543h-4.811v-4.811c0.718 0.556 1.584 1.309 2.543 2.268zM28 29.5c0 0.271-0.229 0.5-0.5 0.5h-23c-0.271 0-0.5-0.229-0.5-0.5v-27c0-0.271 0.229-0.5 0.5-0.5 0 0 15.499-0 15.5 0v7c0 0.552 0.448 1 1 1h7v19.5z\"></path>\n",
              "<path d=\"M23 26h-14c-0.552 0-1-0.448-1-1s0.448-1 1-1h14c0.552 0 1 0.448 1 1s-0.448 1-1 1z\"></path>\n",
              "<path d=\"M23 22h-14c-0.552 0-1-0.448-1-1s0.448-1 1-1h14c0.552 0 1 0.448 1 1s-0.448 1-1 1z\"></path>\n",
              "<path d=\"M23 18h-14c-0.552 0-1-0.448-1-1s0.448-1 1-1h14c0.552 0 1 0.448 1 1s-0.448 1-1 1z\"></path>\n",
              "</symbol>\n",
              "</defs>\n",
              "</svg>\n",
              "<style>/* CSS stylesheet for displaying xarray objects in jupyterlab.\n",
              " *\n",
              " */\n",
              "\n",
              ":root {\n",
              "  --xr-font-color0: var(--jp-content-font-color0, rgba(0, 0, 0, 1));\n",
              "  --xr-font-color2: var(--jp-content-font-color2, rgba(0, 0, 0, 0.54));\n",
              "  --xr-font-color3: var(--jp-content-font-color3, rgba(0, 0, 0, 0.38));\n",
              "  --xr-border-color: var(--jp-border-color2, #e0e0e0);\n",
              "  --xr-disabled-color: var(--jp-layout-color3, #bdbdbd);\n",
              "  --xr-background-color: var(--jp-layout-color0, white);\n",
              "  --xr-background-color-row-even: var(--jp-layout-color1, white);\n",
              "  --xr-background-color-row-odd: var(--jp-layout-color2, #eeeeee);\n",
              "}\n",
              "\n",
              "html[theme=dark],\n",
              "body[data-theme=dark],\n",
              "body.vscode-dark {\n",
              "  --xr-font-color0: rgba(255, 255, 255, 1);\n",
              "  --xr-font-color2: rgba(255, 255, 255, 0.54);\n",
              "  --xr-font-color3: rgba(255, 255, 255, 0.38);\n",
              "  --xr-border-color: #1F1F1F;\n",
              "  --xr-disabled-color: #515151;\n",
              "  --xr-background-color: #111111;\n",
              "  --xr-background-color-row-even: #111111;\n",
              "  --xr-background-color-row-odd: #313131;\n",
              "}\n",
              "\n",
              ".xr-wrap {\n",
              "  display: block !important;\n",
              "  min-width: 300px;\n",
              "  max-width: 700px;\n",
              "}\n",
              "\n",
              ".xr-text-repr-fallback {\n",
              "  /* fallback to plain text repr when CSS is not injected (untrusted notebook) */\n",
              "  display: none;\n",
              "}\n",
              "\n",
              ".xr-header {\n",
              "  padding-top: 6px;\n",
              "  padding-bottom: 6px;\n",
              "  margin-bottom: 4px;\n",
              "  border-bottom: solid 1px var(--xr-border-color);\n",
              "}\n",
              "\n",
              ".xr-header > div,\n",
              ".xr-header > ul {\n",
              "  display: inline;\n",
              "  margin-top: 0;\n",
              "  margin-bottom: 0;\n",
              "}\n",
              "\n",
              ".xr-obj-type,\n",
              ".xr-array-name {\n",
              "  margin-left: 2px;\n",
              "  margin-right: 10px;\n",
              "}\n",
              "\n",
              ".xr-obj-type {\n",
              "  color: var(--xr-font-color2);\n",
              "}\n",
              "\n",
              ".xr-sections {\n",
              "  padding-left: 0 !important;\n",
              "  display: grid;\n",
              "  grid-template-columns: 150px auto auto 1fr 20px 20px;\n",
              "}\n",
              "\n",
              ".xr-section-item {\n",
              "  display: contents;\n",
              "}\n",
              "\n",
              ".xr-section-item input {\n",
              "  display: none;\n",
              "}\n",
              "\n",
              ".xr-section-item input + label {\n",
              "  color: var(--xr-disabled-color);\n",
              "}\n",
              "\n",
              ".xr-section-item input:enabled + label {\n",
              "  cursor: pointer;\n",
              "  color: var(--xr-font-color2);\n",
              "}\n",
              "\n",
              ".xr-section-item input:enabled + label:hover {\n",
              "  color: var(--xr-font-color0);\n",
              "}\n",
              "\n",
              ".xr-section-summary {\n",
              "  grid-column: 1;\n",
              "  color: var(--xr-font-color2);\n",
              "  font-weight: 500;\n",
              "}\n",
              "\n",
              ".xr-section-summary > span {\n",
              "  display: inline-block;\n",
              "  padding-left: 0.5em;\n",
              "}\n",
              "\n",
              ".xr-section-summary-in:disabled + label {\n",
              "  color: var(--xr-font-color2);\n",
              "}\n",
              "\n",
              ".xr-section-summary-in + label:before {\n",
              "  display: inline-block;\n",
              "  content: '►';\n",
              "  font-size: 11px;\n",
              "  width: 15px;\n",
              "  text-align: center;\n",
              "}\n",
              "\n",
              ".xr-section-summary-in:disabled + label:before {\n",
              "  color: var(--xr-disabled-color);\n",
              "}\n",
              "\n",
              ".xr-section-summary-in:checked + label:before {\n",
              "  content: '▼';\n",
              "}\n",
              "\n",
              ".xr-section-summary-in:checked + label > span {\n",
              "  display: none;\n",
              "}\n",
              "\n",
              ".xr-section-summary,\n",
              ".xr-section-inline-details {\n",
              "  padding-top: 4px;\n",
              "  padding-bottom: 4px;\n",
              "}\n",
              "\n",
              ".xr-section-inline-details {\n",
              "  grid-column: 2 / -1;\n",
              "}\n",
              "\n",
              ".xr-section-details {\n",
              "  display: none;\n",
              "  grid-column: 1 / -1;\n",
              "  margin-bottom: 5px;\n",
              "}\n",
              "\n",
              ".xr-section-summary-in:checked ~ .xr-section-details {\n",
              "  display: contents;\n",
              "}\n",
              "\n",
              ".xr-array-wrap {\n",
              "  grid-column: 1 / -1;\n",
              "  display: grid;\n",
              "  grid-template-columns: 20px auto;\n",
              "}\n",
              "\n",
              ".xr-array-wrap > label {\n",
              "  grid-column: 1;\n",
              "  vertical-align: top;\n",
              "}\n",
              "\n",
              ".xr-preview {\n",
              "  color: var(--xr-font-color3);\n",
              "}\n",
              "\n",
              ".xr-array-preview,\n",
              ".xr-array-data {\n",
              "  padding: 0 5px !important;\n",
              "  grid-column: 2;\n",
              "}\n",
              "\n",
              ".xr-array-data,\n",
              ".xr-array-in:checked ~ .xr-array-preview {\n",
              "  display: none;\n",
              "}\n",
              "\n",
              ".xr-array-in:checked ~ .xr-array-data,\n",
              ".xr-array-preview {\n",
              "  display: inline-block;\n",
              "}\n",
              "\n",
              ".xr-dim-list {\n",
              "  display: inline-block !important;\n",
              "  list-style: none;\n",
              "  padding: 0 !important;\n",
              "  margin: 0;\n",
              "}\n",
              "\n",
              ".xr-dim-list li {\n",
              "  display: inline-block;\n",
              "  padding: 0;\n",
              "  margin: 0;\n",
              "}\n",
              "\n",
              ".xr-dim-list:before {\n",
              "  content: '(';\n",
              "}\n",
              "\n",
              ".xr-dim-list:after {\n",
              "  content: ')';\n",
              "}\n",
              "\n",
              ".xr-dim-list li:not(:last-child):after {\n",
              "  content: ',';\n",
              "  padding-right: 5px;\n",
              "}\n",
              "\n",
              ".xr-has-index {\n",
              "  font-weight: bold;\n",
              "}\n",
              "\n",
              ".xr-var-list,\n",
              ".xr-var-item {\n",
              "  display: contents;\n",
              "}\n",
              "\n",
              ".xr-var-item > div,\n",
              ".xr-var-item label,\n",
              ".xr-var-item > .xr-var-name span {\n",
              "  background-color: var(--xr-background-color-row-even);\n",
              "  margin-bottom: 0;\n",
              "}\n",
              "\n",
              ".xr-var-item > .xr-var-name:hover span {\n",
              "  padding-right: 5px;\n",
              "}\n",
              "\n",
              ".xr-var-list > li:nth-child(odd) > div,\n",
              ".xr-var-list > li:nth-child(odd) > label,\n",
              ".xr-var-list > li:nth-child(odd) > .xr-var-name span {\n",
              "  background-color: var(--xr-background-color-row-odd);\n",
              "}\n",
              "\n",
              ".xr-var-name {\n",
              "  grid-column: 1;\n",
              "}\n",
              "\n",
              ".xr-var-dims {\n",
              "  grid-column: 2;\n",
              "}\n",
              "\n",
              ".xr-var-dtype {\n",
              "  grid-column: 3;\n",
              "  text-align: right;\n",
              "  color: var(--xr-font-color2);\n",
              "}\n",
              "\n",
              ".xr-var-preview {\n",
              "  grid-column: 4;\n",
              "}\n",
              "\n",
              ".xr-index-preview {\n",
              "  grid-column: 2 / 5;\n",
              "  color: var(--xr-font-color2);\n",
              "}\n",
              "\n",
              ".xr-var-name,\n",
              ".xr-var-dims,\n",
              ".xr-var-dtype,\n",
              ".xr-preview,\n",
              ".xr-attrs dt {\n",
              "  white-space: nowrap;\n",
              "  overflow: hidden;\n",
              "  text-overflow: ellipsis;\n",
              "  padding-right: 10px;\n",
              "}\n",
              "\n",
              ".xr-var-name:hover,\n",
              ".xr-var-dims:hover,\n",
              ".xr-var-dtype:hover,\n",
              ".xr-attrs dt:hover {\n",
              "  overflow: visible;\n",
              "  width: auto;\n",
              "  z-index: 1;\n",
              "}\n",
              "\n",
              ".xr-var-attrs,\n",
              ".xr-var-data,\n",
              ".xr-index-data {\n",
              "  display: none;\n",
              "  background-color: var(--xr-background-color) !important;\n",
              "  padding-bottom: 5px !important;\n",
              "}\n",
              "\n",
              ".xr-var-attrs-in:checked ~ .xr-var-attrs,\n",
              ".xr-var-data-in:checked ~ .xr-var-data,\n",
              ".xr-index-data-in:checked ~ .xr-index-data {\n",
              "  display: block;\n",
              "}\n",
              "\n",
              ".xr-var-data > table {\n",
              "  float: right;\n",
              "}\n",
              "\n",
              ".xr-var-name span,\n",
              ".xr-var-data,\n",
              ".xr-index-name div,\n",
              ".xr-index-data,\n",
              ".xr-attrs {\n",
              "  padding-left: 25px !important;\n",
              "}\n",
              "\n",
              ".xr-attrs,\n",
              ".xr-var-attrs,\n",
              ".xr-var-data,\n",
              ".xr-index-data {\n",
              "  grid-column: 1 / -1;\n",
              "}\n",
              "\n",
              "dl.xr-attrs {\n",
              "  padding: 0;\n",
              "  margin: 0;\n",
              "  display: grid;\n",
              "  grid-template-columns: 125px auto;\n",
              "}\n",
              "\n",
              ".xr-attrs dt,\n",
              ".xr-attrs dd {\n",
              "  padding: 0;\n",
              "  margin: 0;\n",
              "  float: left;\n",
              "  padding-right: 10px;\n",
              "  width: auto;\n",
              "}\n",
              "\n",
              ".xr-attrs dt {\n",
              "  font-weight: normal;\n",
              "  grid-column: 1;\n",
              "}\n",
              "\n",
              ".xr-attrs dt:hover span {\n",
              "  display: inline-block;\n",
              "  background: var(--xr-background-color);\n",
              "  padding-right: 10px;\n",
              "}\n",
              "\n",
              ".xr-attrs dd {\n",
              "  grid-column: 2;\n",
              "  white-space: pre-wrap;\n",
              "  word-break: break-all;\n",
              "}\n",
              "\n",
              ".xr-icon-database,\n",
              ".xr-icon-file-text2,\n",
              ".xr-no-icon {\n",
              "  display: inline-block;\n",
              "  vertical-align: middle;\n",
              "  width: 1em;\n",
              "  height: 1.5em !important;\n",
              "  stroke-width: 0;\n",
              "  stroke: currentColor;\n",
              "  fill: currentColor;\n",
              "}\n",
              "</style><pre class='xr-text-repr-fallback'>&lt;xarray.Dataset&gt;\n",
              "Dimensions:    (Longitudes: 300, Latitudes: 200, Hours: 24, Days: 31)\n",
              "Dimensions without coordinates: Longitudes, Latitudes, Hours, Days\n",
              "Data variables:\n",
              "    longitude  (Longitudes) float32 ...\n",
              "    latitude   (Latitudes) float32 ...\n",
              "    time       (Hours) float32 ...\n",
              "    cape       (Days, Hours, Latitudes, Longitudes) float32 ...</pre><div class='xr-wrap' style='display:none'><div class='xr-header'><div class='xr-obj-type'>xarray.Dataset</div></div><ul class='xr-sections'><li class='xr-section-item'><input id='section-9e65cff8-ed3b-42db-8a1a-1e5ca7da8319' class='xr-section-summary-in' type='checkbox' disabled ><label for='section-9e65cff8-ed3b-42db-8a1a-1e5ca7da8319' class='xr-section-summary'  title='Expand/collapse section'>Dimensions:</label><div class='xr-section-inline-details'><ul class='xr-dim-list'><li><span>Longitudes</span>: 300</li><li><span>Latitudes</span>: 200</li><li><span>Hours</span>: 24</li><li><span>Days</span>: 31</li></ul></div><div class='xr-section-details'></div></li><li class='xr-section-item'><input id='section-08076abc-7bef-48f9-9365-f67a84fe2a5b' class='xr-section-summary-in' type='checkbox' disabled ><label for='section-08076abc-7bef-48f9-9365-f67a84fe2a5b' class='xr-section-summary'  title='Expand/collapse section'>Coordinates: <span>(0)</span></label><div class='xr-section-inline-details'></div><div class='xr-section-details'><ul class='xr-var-list'></ul></div></li><li class='xr-section-item'><input id='section-18b44ace-601f-45e8-a443-b3e6e57d388c' class='xr-section-summary-in' type='checkbox'  checked><label for='section-18b44ace-601f-45e8-a443-b3e6e57d388c' class='xr-section-summary' >Data variables: <span>(4)</span></label><div class='xr-section-inline-details'></div><div class='xr-section-details'><ul class='xr-var-list'><li class='xr-var-item'><div class='xr-var-name'><span>longitude</span></div><div class='xr-var-dims'>(Longitudes)</div><div class='xr-var-dtype'>float32</div><div class='xr-var-preview xr-preview'>...</div><input id='attrs-a573493e-ed3f-425e-b551-536e3aa27e8b' class='xr-var-attrs-in' type='checkbox' ><label for='attrs-a573493e-ed3f-425e-b551-536e3aa27e8b' title='Show/Hide attributes'><svg class='icon xr-icon-file-text2'><use xlink:href='#icon-file-text2'></use></svg></label><input id='data-2481f14a-4990-4097-a057-720ac5fad74f' class='xr-var-data-in' type='checkbox'><label for='data-2481f14a-4990-4097-a057-720ac5fad74f' title='Show/Hide data repr'><svg class='icon xr-icon-database'><use xlink:href='#icon-database'></use></svg></label><div class='xr-var-attrs'><dl class='xr-attrs'><dt><span>long_name :</span></dt><dd>longitude</dd><dt><span>units :</span></dt><dd>Degrees</dd><dt><span>var_desc :</span></dt><dd>Longitude</dd></dl></div><div class='xr-var-data'><pre>[300 values with dtype=float32]</pre></div></li><li class='xr-var-item'><div class='xr-var-name'><span>latitude</span></div><div class='xr-var-dims'>(Latitudes)</div><div class='xr-var-dtype'>float32</div><div class='xr-var-preview xr-preview'>...</div><input id='attrs-dfc8bc03-019f-409f-ab32-71235826dd6a' class='xr-var-attrs-in' type='checkbox' ><label for='attrs-dfc8bc03-019f-409f-ab32-71235826dd6a' title='Show/Hide attributes'><svg class='icon xr-icon-file-text2'><use xlink:href='#icon-file-text2'></use></svg></label><input id='data-f2fbe2d0-a356-4707-b805-3400bab1f2e6' class='xr-var-data-in' type='checkbox'><label for='data-f2fbe2d0-a356-4707-b805-3400bab1f2e6' title='Show/Hide data repr'><svg class='icon xr-icon-database'><use xlink:href='#icon-database'></use></svg></label><div class='xr-var-attrs'><dl class='xr-attrs'><dt><span>long_name :</span></dt><dd>latitude</dd><dt><span>units :</span></dt><dd>Degrees</dd><dt><span>var_desc :</span></dt><dd>Latitude</dd></dl></div><div class='xr-var-data'><pre>[200 values with dtype=float32]</pre></div></li><li class='xr-var-item'><div class='xr-var-name'><span>time</span></div><div class='xr-var-dims'>(Hours)</div><div class='xr-var-dtype'>float32</div><div class='xr-var-preview xr-preview'>...</div><input id='attrs-af7cdc22-f0be-41ed-898e-2ff3a0784b2a' class='xr-var-attrs-in' type='checkbox' ><label for='attrs-af7cdc22-f0be-41ed-898e-2ff3a0784b2a' title='Show/Hide attributes'><svg class='icon xr-icon-file-text2'><use xlink:href='#icon-file-text2'></use></svg></label><input id='data-785863d9-d501-4680-a96d-3b6b547b4544' class='xr-var-data-in' type='checkbox'><label for='data-785863d9-d501-4680-a96d-3b6b547b4544' title='Show/Hide data repr'><svg class='icon xr-icon-database'><use xlink:href='#icon-database'></use></svg></label><div class='xr-var-attrs'><dl class='xr-attrs'><dt><span>long_name :</span></dt><dd>Time</dd><dt><span>units :</span></dt><dd>Minutes</dd><dt><span>var_desc :</span></dt><dd>Minutes since 00UT</dd></dl></div><div class='xr-var-data'><pre>[24 values with dtype=float32]</pre></div></li><li class='xr-var-item'><div class='xr-var-name'><span>cape</span></div><div class='xr-var-dims'>(Days, Hours, Latitudes, Longitudes)</div><div class='xr-var-dtype'>float32</div><div class='xr-var-preview xr-preview'>...</div><input id='attrs-818d7167-0956-4b5f-b207-b5c2f9b02979' class='xr-var-attrs-in' type='checkbox' ><label for='attrs-818d7167-0956-4b5f-b207-b5c2f9b02979' title='Show/Hide attributes'><svg class='icon xr-icon-file-text2'><use xlink:href='#icon-file-text2'></use></svg></label><input id='data-04861a65-2dfb-482a-afd0-7e01491f14f2' class='xr-var-data-in' type='checkbox'><label for='data-04861a65-2dfb-482a-afd0-7e01491f14f2' title='Show/Hide data repr'><svg class='icon xr-icon-database'><use xlink:href='#icon-database'></use></svg></label><div class='xr-var-attrs'><dl class='xr-attrs'><dt><span>long_name :</span></dt><dd>CAPE</dd><dt><span>units :</span></dt><dd>J kg-1</dd><dt><span>var_desc :</span></dt><dd>cape_for_surface_parcel </dd></dl></div><div class='xr-var-data'><pre>[44640000 values with dtype=float32]</pre></div></li></ul></div></li><li class='xr-section-item'><input id='section-e21a7273-7214-4f22-be84-3a38f878321b' class='xr-section-summary-in' type='checkbox' disabled ><label for='section-e21a7273-7214-4f22-be84-3a38f878321b' class='xr-section-summary'  title='Expand/collapse section'>Indexes: <span>(0)</span></label><div class='xr-section-inline-details'></div><div class='xr-section-details'><ul class='xr-var-list'></ul></div></li><li class='xr-section-item'><input id='section-01f1a1fc-d770-42ec-97f3-d54eaf279c32' class='xr-section-summary-in' type='checkbox' disabled ><label for='section-01f1a1fc-d770-42ec-97f3-d54eaf279c32' class='xr-section-summary'  title='Expand/collapse section'>Attributes: <span>(0)</span></label><div class='xr-section-inline-details'></div><div class='xr-section-details'><dl class='xr-attrs'></dl></div></li></ul></div></div>"
            ]
          },
          "metadata": {},
          "execution_count": 76
        }
      ]
    },
    {
      "cell_type": "code",
      "source": [
        "ds_geos_precon"
      ],
      "metadata": {
        "colab": {
          "base_uri": "https://localhost:8080/",
          "height": 270
        },
        "id": "-_HvuHse5H7S",
        "outputId": "536019d9-69ee-4aaa-af48-bfd11a8169bc"
      },
      "execution_count": 77,
      "outputs": [
        {
          "output_type": "execute_result",
          "data": {
            "text/plain": [
              "<xarray.Dataset>\n",
              "Dimensions:    (Longitudes: 300, Latitudes: 200, Hours: 24, Days: 31)\n",
              "Dimensions without coordinates: Longitudes, Latitudes, Hours, Days\n",
              "Data variables:\n",
              "    longitude  (Longitudes) float32 ...\n",
              "    latitude   (Latitudes) float32 ...\n",
              "    time       (Hours) float32 ...\n",
              "    precon     (Days, Hours, Latitudes, Longitudes) float32 ..."
            ],
            "text/html": [
              "<div><svg style=\"position: absolute; width: 0; height: 0; overflow: hidden\">\n",
              "<defs>\n",
              "<symbol id=\"icon-database\" viewBox=\"0 0 32 32\">\n",
              "<path d=\"M16 0c-8.837 0-16 2.239-16 5v4c0 2.761 7.163 5 16 5s16-2.239 16-5v-4c0-2.761-7.163-5-16-5z\"></path>\n",
              "<path d=\"M16 17c-8.837 0-16-2.239-16-5v6c0 2.761 7.163 5 16 5s16-2.239 16-5v-6c0 2.761-7.163 5-16 5z\"></path>\n",
              "<path d=\"M16 26c-8.837 0-16-2.239-16-5v6c0 2.761 7.163 5 16 5s16-2.239 16-5v-6c0 2.761-7.163 5-16 5z\"></path>\n",
              "</symbol>\n",
              "<symbol id=\"icon-file-text2\" viewBox=\"0 0 32 32\">\n",
              "<path d=\"M28.681 7.159c-0.694-0.947-1.662-2.053-2.724-3.116s-2.169-2.030-3.116-2.724c-1.612-1.182-2.393-1.319-2.841-1.319h-15.5c-1.378 0-2.5 1.121-2.5 2.5v27c0 1.378 1.122 2.5 2.5 2.5h23c1.378 0 2.5-1.122 2.5-2.5v-19.5c0-0.448-0.137-1.23-1.319-2.841zM24.543 5.457c0.959 0.959 1.712 1.825 2.268 2.543h-4.811v-4.811c0.718 0.556 1.584 1.309 2.543 2.268zM28 29.5c0 0.271-0.229 0.5-0.5 0.5h-23c-0.271 0-0.5-0.229-0.5-0.5v-27c0-0.271 0.229-0.5 0.5-0.5 0 0 15.499-0 15.5 0v7c0 0.552 0.448 1 1 1h7v19.5z\"></path>\n",
              "<path d=\"M23 26h-14c-0.552 0-1-0.448-1-1s0.448-1 1-1h14c0.552 0 1 0.448 1 1s-0.448 1-1 1z\"></path>\n",
              "<path d=\"M23 22h-14c-0.552 0-1-0.448-1-1s0.448-1 1-1h14c0.552 0 1 0.448 1 1s-0.448 1-1 1z\"></path>\n",
              "<path d=\"M23 18h-14c-0.552 0-1-0.448-1-1s0.448-1 1-1h14c0.552 0 1 0.448 1 1s-0.448 1-1 1z\"></path>\n",
              "</symbol>\n",
              "</defs>\n",
              "</svg>\n",
              "<style>/* CSS stylesheet for displaying xarray objects in jupyterlab.\n",
              " *\n",
              " */\n",
              "\n",
              ":root {\n",
              "  --xr-font-color0: var(--jp-content-font-color0, rgba(0, 0, 0, 1));\n",
              "  --xr-font-color2: var(--jp-content-font-color2, rgba(0, 0, 0, 0.54));\n",
              "  --xr-font-color3: var(--jp-content-font-color3, rgba(0, 0, 0, 0.38));\n",
              "  --xr-border-color: var(--jp-border-color2, #e0e0e0);\n",
              "  --xr-disabled-color: var(--jp-layout-color3, #bdbdbd);\n",
              "  --xr-background-color: var(--jp-layout-color0, white);\n",
              "  --xr-background-color-row-even: var(--jp-layout-color1, white);\n",
              "  --xr-background-color-row-odd: var(--jp-layout-color2, #eeeeee);\n",
              "}\n",
              "\n",
              "html[theme=dark],\n",
              "body[data-theme=dark],\n",
              "body.vscode-dark {\n",
              "  --xr-font-color0: rgba(255, 255, 255, 1);\n",
              "  --xr-font-color2: rgba(255, 255, 255, 0.54);\n",
              "  --xr-font-color3: rgba(255, 255, 255, 0.38);\n",
              "  --xr-border-color: #1F1F1F;\n",
              "  --xr-disabled-color: #515151;\n",
              "  --xr-background-color: #111111;\n",
              "  --xr-background-color-row-even: #111111;\n",
              "  --xr-background-color-row-odd: #313131;\n",
              "}\n",
              "\n",
              ".xr-wrap {\n",
              "  display: block !important;\n",
              "  min-width: 300px;\n",
              "  max-width: 700px;\n",
              "}\n",
              "\n",
              ".xr-text-repr-fallback {\n",
              "  /* fallback to plain text repr when CSS is not injected (untrusted notebook) */\n",
              "  display: none;\n",
              "}\n",
              "\n",
              ".xr-header {\n",
              "  padding-top: 6px;\n",
              "  padding-bottom: 6px;\n",
              "  margin-bottom: 4px;\n",
              "  border-bottom: solid 1px var(--xr-border-color);\n",
              "}\n",
              "\n",
              ".xr-header > div,\n",
              ".xr-header > ul {\n",
              "  display: inline;\n",
              "  margin-top: 0;\n",
              "  margin-bottom: 0;\n",
              "}\n",
              "\n",
              ".xr-obj-type,\n",
              ".xr-array-name {\n",
              "  margin-left: 2px;\n",
              "  margin-right: 10px;\n",
              "}\n",
              "\n",
              ".xr-obj-type {\n",
              "  color: var(--xr-font-color2);\n",
              "}\n",
              "\n",
              ".xr-sections {\n",
              "  padding-left: 0 !important;\n",
              "  display: grid;\n",
              "  grid-template-columns: 150px auto auto 1fr 20px 20px;\n",
              "}\n",
              "\n",
              ".xr-section-item {\n",
              "  display: contents;\n",
              "}\n",
              "\n",
              ".xr-section-item input {\n",
              "  display: none;\n",
              "}\n",
              "\n",
              ".xr-section-item input + label {\n",
              "  color: var(--xr-disabled-color);\n",
              "}\n",
              "\n",
              ".xr-section-item input:enabled + label {\n",
              "  cursor: pointer;\n",
              "  color: var(--xr-font-color2);\n",
              "}\n",
              "\n",
              ".xr-section-item input:enabled + label:hover {\n",
              "  color: var(--xr-font-color0);\n",
              "}\n",
              "\n",
              ".xr-section-summary {\n",
              "  grid-column: 1;\n",
              "  color: var(--xr-font-color2);\n",
              "  font-weight: 500;\n",
              "}\n",
              "\n",
              ".xr-section-summary > span {\n",
              "  display: inline-block;\n",
              "  padding-left: 0.5em;\n",
              "}\n",
              "\n",
              ".xr-section-summary-in:disabled + label {\n",
              "  color: var(--xr-font-color2);\n",
              "}\n",
              "\n",
              ".xr-section-summary-in + label:before {\n",
              "  display: inline-block;\n",
              "  content: '►';\n",
              "  font-size: 11px;\n",
              "  width: 15px;\n",
              "  text-align: center;\n",
              "}\n",
              "\n",
              ".xr-section-summary-in:disabled + label:before {\n",
              "  color: var(--xr-disabled-color);\n",
              "}\n",
              "\n",
              ".xr-section-summary-in:checked + label:before {\n",
              "  content: '▼';\n",
              "}\n",
              "\n",
              ".xr-section-summary-in:checked + label > span {\n",
              "  display: none;\n",
              "}\n",
              "\n",
              ".xr-section-summary,\n",
              ".xr-section-inline-details {\n",
              "  padding-top: 4px;\n",
              "  padding-bottom: 4px;\n",
              "}\n",
              "\n",
              ".xr-section-inline-details {\n",
              "  grid-column: 2 / -1;\n",
              "}\n",
              "\n",
              ".xr-section-details {\n",
              "  display: none;\n",
              "  grid-column: 1 / -1;\n",
              "  margin-bottom: 5px;\n",
              "}\n",
              "\n",
              ".xr-section-summary-in:checked ~ .xr-section-details {\n",
              "  display: contents;\n",
              "}\n",
              "\n",
              ".xr-array-wrap {\n",
              "  grid-column: 1 / -1;\n",
              "  display: grid;\n",
              "  grid-template-columns: 20px auto;\n",
              "}\n",
              "\n",
              ".xr-array-wrap > label {\n",
              "  grid-column: 1;\n",
              "  vertical-align: top;\n",
              "}\n",
              "\n",
              ".xr-preview {\n",
              "  color: var(--xr-font-color3);\n",
              "}\n",
              "\n",
              ".xr-array-preview,\n",
              ".xr-array-data {\n",
              "  padding: 0 5px !important;\n",
              "  grid-column: 2;\n",
              "}\n",
              "\n",
              ".xr-array-data,\n",
              ".xr-array-in:checked ~ .xr-array-preview {\n",
              "  display: none;\n",
              "}\n",
              "\n",
              ".xr-array-in:checked ~ .xr-array-data,\n",
              ".xr-array-preview {\n",
              "  display: inline-block;\n",
              "}\n",
              "\n",
              ".xr-dim-list {\n",
              "  display: inline-block !important;\n",
              "  list-style: none;\n",
              "  padding: 0 !important;\n",
              "  margin: 0;\n",
              "}\n",
              "\n",
              ".xr-dim-list li {\n",
              "  display: inline-block;\n",
              "  padding: 0;\n",
              "  margin: 0;\n",
              "}\n",
              "\n",
              ".xr-dim-list:before {\n",
              "  content: '(';\n",
              "}\n",
              "\n",
              ".xr-dim-list:after {\n",
              "  content: ')';\n",
              "}\n",
              "\n",
              ".xr-dim-list li:not(:last-child):after {\n",
              "  content: ',';\n",
              "  padding-right: 5px;\n",
              "}\n",
              "\n",
              ".xr-has-index {\n",
              "  font-weight: bold;\n",
              "}\n",
              "\n",
              ".xr-var-list,\n",
              ".xr-var-item {\n",
              "  display: contents;\n",
              "}\n",
              "\n",
              ".xr-var-item > div,\n",
              ".xr-var-item label,\n",
              ".xr-var-item > .xr-var-name span {\n",
              "  background-color: var(--xr-background-color-row-even);\n",
              "  margin-bottom: 0;\n",
              "}\n",
              "\n",
              ".xr-var-item > .xr-var-name:hover span {\n",
              "  padding-right: 5px;\n",
              "}\n",
              "\n",
              ".xr-var-list > li:nth-child(odd) > div,\n",
              ".xr-var-list > li:nth-child(odd) > label,\n",
              ".xr-var-list > li:nth-child(odd) > .xr-var-name span {\n",
              "  background-color: var(--xr-background-color-row-odd);\n",
              "}\n",
              "\n",
              ".xr-var-name {\n",
              "  grid-column: 1;\n",
              "}\n",
              "\n",
              ".xr-var-dims {\n",
              "  grid-column: 2;\n",
              "}\n",
              "\n",
              ".xr-var-dtype {\n",
              "  grid-column: 3;\n",
              "  text-align: right;\n",
              "  color: var(--xr-font-color2);\n",
              "}\n",
              "\n",
              ".xr-var-preview {\n",
              "  grid-column: 4;\n",
              "}\n",
              "\n",
              ".xr-index-preview {\n",
              "  grid-column: 2 / 5;\n",
              "  color: var(--xr-font-color2);\n",
              "}\n",
              "\n",
              ".xr-var-name,\n",
              ".xr-var-dims,\n",
              ".xr-var-dtype,\n",
              ".xr-preview,\n",
              ".xr-attrs dt {\n",
              "  white-space: nowrap;\n",
              "  overflow: hidden;\n",
              "  text-overflow: ellipsis;\n",
              "  padding-right: 10px;\n",
              "}\n",
              "\n",
              ".xr-var-name:hover,\n",
              ".xr-var-dims:hover,\n",
              ".xr-var-dtype:hover,\n",
              ".xr-attrs dt:hover {\n",
              "  overflow: visible;\n",
              "  width: auto;\n",
              "  z-index: 1;\n",
              "}\n",
              "\n",
              ".xr-var-attrs,\n",
              ".xr-var-data,\n",
              ".xr-index-data {\n",
              "  display: none;\n",
              "  background-color: var(--xr-background-color) !important;\n",
              "  padding-bottom: 5px !important;\n",
              "}\n",
              "\n",
              ".xr-var-attrs-in:checked ~ .xr-var-attrs,\n",
              ".xr-var-data-in:checked ~ .xr-var-data,\n",
              ".xr-index-data-in:checked ~ .xr-index-data {\n",
              "  display: block;\n",
              "}\n",
              "\n",
              ".xr-var-data > table {\n",
              "  float: right;\n",
              "}\n",
              "\n",
              ".xr-var-name span,\n",
              ".xr-var-data,\n",
              ".xr-index-name div,\n",
              ".xr-index-data,\n",
              ".xr-attrs {\n",
              "  padding-left: 25px !important;\n",
              "}\n",
              "\n",
              ".xr-attrs,\n",
              ".xr-var-attrs,\n",
              ".xr-var-data,\n",
              ".xr-index-data {\n",
              "  grid-column: 1 / -1;\n",
              "}\n",
              "\n",
              "dl.xr-attrs {\n",
              "  padding: 0;\n",
              "  margin: 0;\n",
              "  display: grid;\n",
              "  grid-template-columns: 125px auto;\n",
              "}\n",
              "\n",
              ".xr-attrs dt,\n",
              ".xr-attrs dd {\n",
              "  padding: 0;\n",
              "  margin: 0;\n",
              "  float: left;\n",
              "  padding-right: 10px;\n",
              "  width: auto;\n",
              "}\n",
              "\n",
              ".xr-attrs dt {\n",
              "  font-weight: normal;\n",
              "  grid-column: 1;\n",
              "}\n",
              "\n",
              ".xr-attrs dt:hover span {\n",
              "  display: inline-block;\n",
              "  background: var(--xr-background-color);\n",
              "  padding-right: 10px;\n",
              "}\n",
              "\n",
              ".xr-attrs dd {\n",
              "  grid-column: 2;\n",
              "  white-space: pre-wrap;\n",
              "  word-break: break-all;\n",
              "}\n",
              "\n",
              ".xr-icon-database,\n",
              ".xr-icon-file-text2,\n",
              ".xr-no-icon {\n",
              "  display: inline-block;\n",
              "  vertical-align: middle;\n",
              "  width: 1em;\n",
              "  height: 1.5em !important;\n",
              "  stroke-width: 0;\n",
              "  stroke: currentColor;\n",
              "  fill: currentColor;\n",
              "}\n",
              "</style><pre class='xr-text-repr-fallback'>&lt;xarray.Dataset&gt;\n",
              "Dimensions:    (Longitudes: 300, Latitudes: 200, Hours: 24, Days: 31)\n",
              "Dimensions without coordinates: Longitudes, Latitudes, Hours, Days\n",
              "Data variables:\n",
              "    longitude  (Longitudes) float32 ...\n",
              "    latitude   (Latitudes) float32 ...\n",
              "    time       (Hours) float32 ...\n",
              "    precon     (Days, Hours, Latitudes, Longitudes) float32 ...</pre><div class='xr-wrap' style='display:none'><div class='xr-header'><div class='xr-obj-type'>xarray.Dataset</div></div><ul class='xr-sections'><li class='xr-section-item'><input id='section-a00b038d-0f0a-4b1a-b38b-5ff5cd876fd1' class='xr-section-summary-in' type='checkbox' disabled ><label for='section-a00b038d-0f0a-4b1a-b38b-5ff5cd876fd1' class='xr-section-summary'  title='Expand/collapse section'>Dimensions:</label><div class='xr-section-inline-details'><ul class='xr-dim-list'><li><span>Longitudes</span>: 300</li><li><span>Latitudes</span>: 200</li><li><span>Hours</span>: 24</li><li><span>Days</span>: 31</li></ul></div><div class='xr-section-details'></div></li><li class='xr-section-item'><input id='section-2a829718-da32-4c0a-9667-da41cf673847' class='xr-section-summary-in' type='checkbox' disabled ><label for='section-2a829718-da32-4c0a-9667-da41cf673847' class='xr-section-summary'  title='Expand/collapse section'>Coordinates: <span>(0)</span></label><div class='xr-section-inline-details'></div><div class='xr-section-details'><ul class='xr-var-list'></ul></div></li><li class='xr-section-item'><input id='section-6ac2d17c-39dc-4c71-b19c-7df9c9ce63e5' class='xr-section-summary-in' type='checkbox'  checked><label for='section-6ac2d17c-39dc-4c71-b19c-7df9c9ce63e5' class='xr-section-summary' >Data variables: <span>(4)</span></label><div class='xr-section-inline-details'></div><div class='xr-section-details'><ul class='xr-var-list'><li class='xr-var-item'><div class='xr-var-name'><span>longitude</span></div><div class='xr-var-dims'>(Longitudes)</div><div class='xr-var-dtype'>float32</div><div class='xr-var-preview xr-preview'>...</div><input id='attrs-c95b431b-e886-445a-97fb-f439d2145a89' class='xr-var-attrs-in' type='checkbox' ><label for='attrs-c95b431b-e886-445a-97fb-f439d2145a89' title='Show/Hide attributes'><svg class='icon xr-icon-file-text2'><use xlink:href='#icon-file-text2'></use></svg></label><input id='data-22cc7f9f-c21c-4cef-b04a-d328ca8ef42e' class='xr-var-data-in' type='checkbox'><label for='data-22cc7f9f-c21c-4cef-b04a-d328ca8ef42e' title='Show/Hide data repr'><svg class='icon xr-icon-database'><use xlink:href='#icon-database'></use></svg></label><div class='xr-var-attrs'><dl class='xr-attrs'><dt><span>long_name :</span></dt><dd>longitude</dd><dt><span>units :</span></dt><dd>Degrees</dd><dt><span>var_desc :</span></dt><dd>Longitude</dd></dl></div><div class='xr-var-data'><pre>[300 values with dtype=float32]</pre></div></li><li class='xr-var-item'><div class='xr-var-name'><span>latitude</span></div><div class='xr-var-dims'>(Latitudes)</div><div class='xr-var-dtype'>float32</div><div class='xr-var-preview xr-preview'>...</div><input id='attrs-81b749bc-1ba3-4d52-a2ef-1667456b5a3d' class='xr-var-attrs-in' type='checkbox' ><label for='attrs-81b749bc-1ba3-4d52-a2ef-1667456b5a3d' title='Show/Hide attributes'><svg class='icon xr-icon-file-text2'><use xlink:href='#icon-file-text2'></use></svg></label><input id='data-6f5cce50-8041-41d7-b609-43e5f88c5284' class='xr-var-data-in' type='checkbox'><label for='data-6f5cce50-8041-41d7-b609-43e5f88c5284' title='Show/Hide data repr'><svg class='icon xr-icon-database'><use xlink:href='#icon-database'></use></svg></label><div class='xr-var-attrs'><dl class='xr-attrs'><dt><span>long_name :</span></dt><dd>latitude</dd><dt><span>units :</span></dt><dd>Degrees</dd><dt><span>var_desc :</span></dt><dd>Latitude</dd></dl></div><div class='xr-var-data'><pre>[200 values with dtype=float32]</pre></div></li><li class='xr-var-item'><div class='xr-var-name'><span>time</span></div><div class='xr-var-dims'>(Hours)</div><div class='xr-var-dtype'>float32</div><div class='xr-var-preview xr-preview'>...</div><input id='attrs-84f02f8c-21bf-448f-a129-22996165af36' class='xr-var-attrs-in' type='checkbox' ><label for='attrs-84f02f8c-21bf-448f-a129-22996165af36' title='Show/Hide attributes'><svg class='icon xr-icon-file-text2'><use xlink:href='#icon-file-text2'></use></svg></label><input id='data-1fe4e576-93c0-49f2-9be2-80107695ad73' class='xr-var-data-in' type='checkbox'><label for='data-1fe4e576-93c0-49f2-9be2-80107695ad73' title='Show/Hide data repr'><svg class='icon xr-icon-database'><use xlink:href='#icon-database'></use></svg></label><div class='xr-var-attrs'><dl class='xr-attrs'><dt><span>long_name :</span></dt><dd>Time</dd><dt><span>units :</span></dt><dd>Minutes</dd><dt><span>var_desc :</span></dt><dd>Minutes since 00UT</dd></dl></div><div class='xr-var-data'><pre>[24 values with dtype=float32]</pre></div></li><li class='xr-var-item'><div class='xr-var-name'><span>precon</span></div><div class='xr-var-dims'>(Days, Hours, Latitudes, Longitudes)</div><div class='xr-var-dtype'>float32</div><div class='xr-var-preview xr-preview'>...</div><input id='attrs-012f6f75-ff9f-41f1-8539-389bce2b023a' class='xr-var-attrs-in' type='checkbox' ><label for='attrs-012f6f75-ff9f-41f1-8539-389bce2b023a' title='Show/Hide attributes'><svg class='icon xr-icon-file-text2'><use xlink:href='#icon-file-text2'></use></svg></label><input id='data-373fb355-81f4-446d-a95e-31dd40c9ef3e' class='xr-var-data-in' type='checkbox'><label for='data-373fb355-81f4-446d-a95e-31dd40c9ef3e' title='Show/Hide data repr'><svg class='icon xr-icon-database'><use xlink:href='#icon-database'></use></svg></label><div class='xr-var-attrs'><dl class='xr-attrs'><dt><span>long_name :</span></dt><dd>PRECON</dd><dt><span>units :</span></dt><dd>kg m-2 s-1</dd><dt><span>var_desc :</span></dt><dd>convective_precipitation </dd></dl></div><div class='xr-var-data'><pre>[44640000 values with dtype=float32]</pre></div></li></ul></div></li><li class='xr-section-item'><input id='section-ac728b12-7e4c-472b-8de7-dcb461605c3e' class='xr-section-summary-in' type='checkbox' disabled ><label for='section-ac728b12-7e4c-472b-8de7-dcb461605c3e' class='xr-section-summary'  title='Expand/collapse section'>Indexes: <span>(0)</span></label><div class='xr-section-inline-details'></div><div class='xr-section-details'><ul class='xr-var-list'></ul></div></li><li class='xr-section-item'><input id='section-455cb3ec-1940-4806-aae1-619fd691c363' class='xr-section-summary-in' type='checkbox' disabled ><label for='section-455cb3ec-1940-4806-aae1-619fd691c363' class='xr-section-summary'  title='Expand/collapse section'>Attributes: <span>(0)</span></label><div class='xr-section-inline-details'></div><div class='xr-section-details'><dl class='xr-attrs'></dl></div></li></ul></div></div>"
            ]
          },
          "metadata": {},
          "execution_count": 77
        }
      ]
    },
    {
      "cell_type": "code",
      "source": [
        "ds_geos_cldht"
      ],
      "metadata": {
        "colab": {
          "base_uri": "https://localhost:8080/",
          "height": 270
        },
        "id": "rNzQaNZl5N2q",
        "outputId": "6b80903b-55d8-479d-a2e5-35ce785d68a1"
      },
      "execution_count": 78,
      "outputs": [
        {
          "output_type": "execute_result",
          "data": {
            "text/plain": [
              "<xarray.Dataset>\n",
              "Dimensions:    (Longitudes: 300, Latitudes: 200, Hours: 24, Days: 31)\n",
              "Dimensions without coordinates: Longitudes, Latitudes, Hours, Days\n",
              "Data variables:\n",
              "    longitude  (Longitudes) float32 ...\n",
              "    latitude   (Latitudes) float32 ...\n",
              "    time       (Hours) float32 ...\n",
              "    cldht      (Days, Hours, Latitudes, Longitudes) float32 ..."
            ],
            "text/html": [
              "<div><svg style=\"position: absolute; width: 0; height: 0; overflow: hidden\">\n",
              "<defs>\n",
              "<symbol id=\"icon-database\" viewBox=\"0 0 32 32\">\n",
              "<path d=\"M16 0c-8.837 0-16 2.239-16 5v4c0 2.761 7.163 5 16 5s16-2.239 16-5v-4c0-2.761-7.163-5-16-5z\"></path>\n",
              "<path d=\"M16 17c-8.837 0-16-2.239-16-5v6c0 2.761 7.163 5 16 5s16-2.239 16-5v-6c0 2.761-7.163 5-16 5z\"></path>\n",
              "<path d=\"M16 26c-8.837 0-16-2.239-16-5v6c0 2.761 7.163 5 16 5s16-2.239 16-5v-6c0 2.761-7.163 5-16 5z\"></path>\n",
              "</symbol>\n",
              "<symbol id=\"icon-file-text2\" viewBox=\"0 0 32 32\">\n",
              "<path d=\"M28.681 7.159c-0.694-0.947-1.662-2.053-2.724-3.116s-2.169-2.030-3.116-2.724c-1.612-1.182-2.393-1.319-2.841-1.319h-15.5c-1.378 0-2.5 1.121-2.5 2.5v27c0 1.378 1.122 2.5 2.5 2.5h23c1.378 0 2.5-1.122 2.5-2.5v-19.5c0-0.448-0.137-1.23-1.319-2.841zM24.543 5.457c0.959 0.959 1.712 1.825 2.268 2.543h-4.811v-4.811c0.718 0.556 1.584 1.309 2.543 2.268zM28 29.5c0 0.271-0.229 0.5-0.5 0.5h-23c-0.271 0-0.5-0.229-0.5-0.5v-27c0-0.271 0.229-0.5 0.5-0.5 0 0 15.499-0 15.5 0v7c0 0.552 0.448 1 1 1h7v19.5z\"></path>\n",
              "<path d=\"M23 26h-14c-0.552 0-1-0.448-1-1s0.448-1 1-1h14c0.552 0 1 0.448 1 1s-0.448 1-1 1z\"></path>\n",
              "<path d=\"M23 22h-14c-0.552 0-1-0.448-1-1s0.448-1 1-1h14c0.552 0 1 0.448 1 1s-0.448 1-1 1z\"></path>\n",
              "<path d=\"M23 18h-14c-0.552 0-1-0.448-1-1s0.448-1 1-1h14c0.552 0 1 0.448 1 1s-0.448 1-1 1z\"></path>\n",
              "</symbol>\n",
              "</defs>\n",
              "</svg>\n",
              "<style>/* CSS stylesheet for displaying xarray objects in jupyterlab.\n",
              " *\n",
              " */\n",
              "\n",
              ":root {\n",
              "  --xr-font-color0: var(--jp-content-font-color0, rgba(0, 0, 0, 1));\n",
              "  --xr-font-color2: var(--jp-content-font-color2, rgba(0, 0, 0, 0.54));\n",
              "  --xr-font-color3: var(--jp-content-font-color3, rgba(0, 0, 0, 0.38));\n",
              "  --xr-border-color: var(--jp-border-color2, #e0e0e0);\n",
              "  --xr-disabled-color: var(--jp-layout-color3, #bdbdbd);\n",
              "  --xr-background-color: var(--jp-layout-color0, white);\n",
              "  --xr-background-color-row-even: var(--jp-layout-color1, white);\n",
              "  --xr-background-color-row-odd: var(--jp-layout-color2, #eeeeee);\n",
              "}\n",
              "\n",
              "html[theme=dark],\n",
              "body[data-theme=dark],\n",
              "body.vscode-dark {\n",
              "  --xr-font-color0: rgba(255, 255, 255, 1);\n",
              "  --xr-font-color2: rgba(255, 255, 255, 0.54);\n",
              "  --xr-font-color3: rgba(255, 255, 255, 0.38);\n",
              "  --xr-border-color: #1F1F1F;\n",
              "  --xr-disabled-color: #515151;\n",
              "  --xr-background-color: #111111;\n",
              "  --xr-background-color-row-even: #111111;\n",
              "  --xr-background-color-row-odd: #313131;\n",
              "}\n",
              "\n",
              ".xr-wrap {\n",
              "  display: block !important;\n",
              "  min-width: 300px;\n",
              "  max-width: 700px;\n",
              "}\n",
              "\n",
              ".xr-text-repr-fallback {\n",
              "  /* fallback to plain text repr when CSS is not injected (untrusted notebook) */\n",
              "  display: none;\n",
              "}\n",
              "\n",
              ".xr-header {\n",
              "  padding-top: 6px;\n",
              "  padding-bottom: 6px;\n",
              "  margin-bottom: 4px;\n",
              "  border-bottom: solid 1px var(--xr-border-color);\n",
              "}\n",
              "\n",
              ".xr-header > div,\n",
              ".xr-header > ul {\n",
              "  display: inline;\n",
              "  margin-top: 0;\n",
              "  margin-bottom: 0;\n",
              "}\n",
              "\n",
              ".xr-obj-type,\n",
              ".xr-array-name {\n",
              "  margin-left: 2px;\n",
              "  margin-right: 10px;\n",
              "}\n",
              "\n",
              ".xr-obj-type {\n",
              "  color: var(--xr-font-color2);\n",
              "}\n",
              "\n",
              ".xr-sections {\n",
              "  padding-left: 0 !important;\n",
              "  display: grid;\n",
              "  grid-template-columns: 150px auto auto 1fr 20px 20px;\n",
              "}\n",
              "\n",
              ".xr-section-item {\n",
              "  display: contents;\n",
              "}\n",
              "\n",
              ".xr-section-item input {\n",
              "  display: none;\n",
              "}\n",
              "\n",
              ".xr-section-item input + label {\n",
              "  color: var(--xr-disabled-color);\n",
              "}\n",
              "\n",
              ".xr-section-item input:enabled + label {\n",
              "  cursor: pointer;\n",
              "  color: var(--xr-font-color2);\n",
              "}\n",
              "\n",
              ".xr-section-item input:enabled + label:hover {\n",
              "  color: var(--xr-font-color0);\n",
              "}\n",
              "\n",
              ".xr-section-summary {\n",
              "  grid-column: 1;\n",
              "  color: var(--xr-font-color2);\n",
              "  font-weight: 500;\n",
              "}\n",
              "\n",
              ".xr-section-summary > span {\n",
              "  display: inline-block;\n",
              "  padding-left: 0.5em;\n",
              "}\n",
              "\n",
              ".xr-section-summary-in:disabled + label {\n",
              "  color: var(--xr-font-color2);\n",
              "}\n",
              "\n",
              ".xr-section-summary-in + label:before {\n",
              "  display: inline-block;\n",
              "  content: '►';\n",
              "  font-size: 11px;\n",
              "  width: 15px;\n",
              "  text-align: center;\n",
              "}\n",
              "\n",
              ".xr-section-summary-in:disabled + label:before {\n",
              "  color: var(--xr-disabled-color);\n",
              "}\n",
              "\n",
              ".xr-section-summary-in:checked + label:before {\n",
              "  content: '▼';\n",
              "}\n",
              "\n",
              ".xr-section-summary-in:checked + label > span {\n",
              "  display: none;\n",
              "}\n",
              "\n",
              ".xr-section-summary,\n",
              ".xr-section-inline-details {\n",
              "  padding-top: 4px;\n",
              "  padding-bottom: 4px;\n",
              "}\n",
              "\n",
              ".xr-section-inline-details {\n",
              "  grid-column: 2 / -1;\n",
              "}\n",
              "\n",
              ".xr-section-details {\n",
              "  display: none;\n",
              "  grid-column: 1 / -1;\n",
              "  margin-bottom: 5px;\n",
              "}\n",
              "\n",
              ".xr-section-summary-in:checked ~ .xr-section-details {\n",
              "  display: contents;\n",
              "}\n",
              "\n",
              ".xr-array-wrap {\n",
              "  grid-column: 1 / -1;\n",
              "  display: grid;\n",
              "  grid-template-columns: 20px auto;\n",
              "}\n",
              "\n",
              ".xr-array-wrap > label {\n",
              "  grid-column: 1;\n",
              "  vertical-align: top;\n",
              "}\n",
              "\n",
              ".xr-preview {\n",
              "  color: var(--xr-font-color3);\n",
              "}\n",
              "\n",
              ".xr-array-preview,\n",
              ".xr-array-data {\n",
              "  padding: 0 5px !important;\n",
              "  grid-column: 2;\n",
              "}\n",
              "\n",
              ".xr-array-data,\n",
              ".xr-array-in:checked ~ .xr-array-preview {\n",
              "  display: none;\n",
              "}\n",
              "\n",
              ".xr-array-in:checked ~ .xr-array-data,\n",
              ".xr-array-preview {\n",
              "  display: inline-block;\n",
              "}\n",
              "\n",
              ".xr-dim-list {\n",
              "  display: inline-block !important;\n",
              "  list-style: none;\n",
              "  padding: 0 !important;\n",
              "  margin: 0;\n",
              "}\n",
              "\n",
              ".xr-dim-list li {\n",
              "  display: inline-block;\n",
              "  padding: 0;\n",
              "  margin: 0;\n",
              "}\n",
              "\n",
              ".xr-dim-list:before {\n",
              "  content: '(';\n",
              "}\n",
              "\n",
              ".xr-dim-list:after {\n",
              "  content: ')';\n",
              "}\n",
              "\n",
              ".xr-dim-list li:not(:last-child):after {\n",
              "  content: ',';\n",
              "  padding-right: 5px;\n",
              "}\n",
              "\n",
              ".xr-has-index {\n",
              "  font-weight: bold;\n",
              "}\n",
              "\n",
              ".xr-var-list,\n",
              ".xr-var-item {\n",
              "  display: contents;\n",
              "}\n",
              "\n",
              ".xr-var-item > div,\n",
              ".xr-var-item label,\n",
              ".xr-var-item > .xr-var-name span {\n",
              "  background-color: var(--xr-background-color-row-even);\n",
              "  margin-bottom: 0;\n",
              "}\n",
              "\n",
              ".xr-var-item > .xr-var-name:hover span {\n",
              "  padding-right: 5px;\n",
              "}\n",
              "\n",
              ".xr-var-list > li:nth-child(odd) > div,\n",
              ".xr-var-list > li:nth-child(odd) > label,\n",
              ".xr-var-list > li:nth-child(odd) > .xr-var-name span {\n",
              "  background-color: var(--xr-background-color-row-odd);\n",
              "}\n",
              "\n",
              ".xr-var-name {\n",
              "  grid-column: 1;\n",
              "}\n",
              "\n",
              ".xr-var-dims {\n",
              "  grid-column: 2;\n",
              "}\n",
              "\n",
              ".xr-var-dtype {\n",
              "  grid-column: 3;\n",
              "  text-align: right;\n",
              "  color: var(--xr-font-color2);\n",
              "}\n",
              "\n",
              ".xr-var-preview {\n",
              "  grid-column: 4;\n",
              "}\n",
              "\n",
              ".xr-index-preview {\n",
              "  grid-column: 2 / 5;\n",
              "  color: var(--xr-font-color2);\n",
              "}\n",
              "\n",
              ".xr-var-name,\n",
              ".xr-var-dims,\n",
              ".xr-var-dtype,\n",
              ".xr-preview,\n",
              ".xr-attrs dt {\n",
              "  white-space: nowrap;\n",
              "  overflow: hidden;\n",
              "  text-overflow: ellipsis;\n",
              "  padding-right: 10px;\n",
              "}\n",
              "\n",
              ".xr-var-name:hover,\n",
              ".xr-var-dims:hover,\n",
              ".xr-var-dtype:hover,\n",
              ".xr-attrs dt:hover {\n",
              "  overflow: visible;\n",
              "  width: auto;\n",
              "  z-index: 1;\n",
              "}\n",
              "\n",
              ".xr-var-attrs,\n",
              ".xr-var-data,\n",
              ".xr-index-data {\n",
              "  display: none;\n",
              "  background-color: var(--xr-background-color) !important;\n",
              "  padding-bottom: 5px !important;\n",
              "}\n",
              "\n",
              ".xr-var-attrs-in:checked ~ .xr-var-attrs,\n",
              ".xr-var-data-in:checked ~ .xr-var-data,\n",
              ".xr-index-data-in:checked ~ .xr-index-data {\n",
              "  display: block;\n",
              "}\n",
              "\n",
              ".xr-var-data > table {\n",
              "  float: right;\n",
              "}\n",
              "\n",
              ".xr-var-name span,\n",
              ".xr-var-data,\n",
              ".xr-index-name div,\n",
              ".xr-index-data,\n",
              ".xr-attrs {\n",
              "  padding-left: 25px !important;\n",
              "}\n",
              "\n",
              ".xr-attrs,\n",
              ".xr-var-attrs,\n",
              ".xr-var-data,\n",
              ".xr-index-data {\n",
              "  grid-column: 1 / -1;\n",
              "}\n",
              "\n",
              "dl.xr-attrs {\n",
              "  padding: 0;\n",
              "  margin: 0;\n",
              "  display: grid;\n",
              "  grid-template-columns: 125px auto;\n",
              "}\n",
              "\n",
              ".xr-attrs dt,\n",
              ".xr-attrs dd {\n",
              "  padding: 0;\n",
              "  margin: 0;\n",
              "  float: left;\n",
              "  padding-right: 10px;\n",
              "  width: auto;\n",
              "}\n",
              "\n",
              ".xr-attrs dt {\n",
              "  font-weight: normal;\n",
              "  grid-column: 1;\n",
              "}\n",
              "\n",
              ".xr-attrs dt:hover span {\n",
              "  display: inline-block;\n",
              "  background: var(--xr-background-color);\n",
              "  padding-right: 10px;\n",
              "}\n",
              "\n",
              ".xr-attrs dd {\n",
              "  grid-column: 2;\n",
              "  white-space: pre-wrap;\n",
              "  word-break: break-all;\n",
              "}\n",
              "\n",
              ".xr-icon-database,\n",
              ".xr-icon-file-text2,\n",
              ".xr-no-icon {\n",
              "  display: inline-block;\n",
              "  vertical-align: middle;\n",
              "  width: 1em;\n",
              "  height: 1.5em !important;\n",
              "  stroke-width: 0;\n",
              "  stroke: currentColor;\n",
              "  fill: currentColor;\n",
              "}\n",
              "</style><pre class='xr-text-repr-fallback'>&lt;xarray.Dataset&gt;\n",
              "Dimensions:    (Longitudes: 300, Latitudes: 200, Hours: 24, Days: 31)\n",
              "Dimensions without coordinates: Longitudes, Latitudes, Hours, Days\n",
              "Data variables:\n",
              "    longitude  (Longitudes) float32 ...\n",
              "    latitude   (Latitudes) float32 ...\n",
              "    time       (Hours) float32 ...\n",
              "    cldht      (Days, Hours, Latitudes, Longitudes) float32 ...</pre><div class='xr-wrap' style='display:none'><div class='xr-header'><div class='xr-obj-type'>xarray.Dataset</div></div><ul class='xr-sections'><li class='xr-section-item'><input id='section-06bd5357-5410-474f-8f04-9a0ad891d302' class='xr-section-summary-in' type='checkbox' disabled ><label for='section-06bd5357-5410-474f-8f04-9a0ad891d302' class='xr-section-summary'  title='Expand/collapse section'>Dimensions:</label><div class='xr-section-inline-details'><ul class='xr-dim-list'><li><span>Longitudes</span>: 300</li><li><span>Latitudes</span>: 200</li><li><span>Hours</span>: 24</li><li><span>Days</span>: 31</li></ul></div><div class='xr-section-details'></div></li><li class='xr-section-item'><input id='section-5f406538-6106-4390-9b26-10242ebf35c5' class='xr-section-summary-in' type='checkbox' disabled ><label for='section-5f406538-6106-4390-9b26-10242ebf35c5' class='xr-section-summary'  title='Expand/collapse section'>Coordinates: <span>(0)</span></label><div class='xr-section-inline-details'></div><div class='xr-section-details'><ul class='xr-var-list'></ul></div></li><li class='xr-section-item'><input id='section-e232e50f-0ca9-47e9-9035-fef4ad76fc97' class='xr-section-summary-in' type='checkbox'  checked><label for='section-e232e50f-0ca9-47e9-9035-fef4ad76fc97' class='xr-section-summary' >Data variables: <span>(4)</span></label><div class='xr-section-inline-details'></div><div class='xr-section-details'><ul class='xr-var-list'><li class='xr-var-item'><div class='xr-var-name'><span>longitude</span></div><div class='xr-var-dims'>(Longitudes)</div><div class='xr-var-dtype'>float32</div><div class='xr-var-preview xr-preview'>...</div><input id='attrs-c90c9c10-3d81-4181-9ba5-feced1add724' class='xr-var-attrs-in' type='checkbox' ><label for='attrs-c90c9c10-3d81-4181-9ba5-feced1add724' title='Show/Hide attributes'><svg class='icon xr-icon-file-text2'><use xlink:href='#icon-file-text2'></use></svg></label><input id='data-b2da205c-3cab-42e7-887b-9abe50618709' class='xr-var-data-in' type='checkbox'><label for='data-b2da205c-3cab-42e7-887b-9abe50618709' title='Show/Hide data repr'><svg class='icon xr-icon-database'><use xlink:href='#icon-database'></use></svg></label><div class='xr-var-attrs'><dl class='xr-attrs'><dt><span>long_name :</span></dt><dd>longitude</dd><dt><span>units :</span></dt><dd>Degrees</dd><dt><span>var_desc :</span></dt><dd>Longitude</dd></dl></div><div class='xr-var-data'><pre>[300 values with dtype=float32]</pre></div></li><li class='xr-var-item'><div class='xr-var-name'><span>latitude</span></div><div class='xr-var-dims'>(Latitudes)</div><div class='xr-var-dtype'>float32</div><div class='xr-var-preview xr-preview'>...</div><input id='attrs-19e71216-95e5-416b-ab78-89bc568d1491' class='xr-var-attrs-in' type='checkbox' ><label for='attrs-19e71216-95e5-416b-ab78-89bc568d1491' title='Show/Hide attributes'><svg class='icon xr-icon-file-text2'><use xlink:href='#icon-file-text2'></use></svg></label><input id='data-c3ff66a2-199d-4973-87f0-74e6afcde143' class='xr-var-data-in' type='checkbox'><label for='data-c3ff66a2-199d-4973-87f0-74e6afcde143' title='Show/Hide data repr'><svg class='icon xr-icon-database'><use xlink:href='#icon-database'></use></svg></label><div class='xr-var-attrs'><dl class='xr-attrs'><dt><span>long_name :</span></dt><dd>latitude</dd><dt><span>units :</span></dt><dd>Degrees</dd><dt><span>var_desc :</span></dt><dd>Latitude</dd></dl></div><div class='xr-var-data'><pre>[200 values with dtype=float32]</pre></div></li><li class='xr-var-item'><div class='xr-var-name'><span>time</span></div><div class='xr-var-dims'>(Hours)</div><div class='xr-var-dtype'>float32</div><div class='xr-var-preview xr-preview'>...</div><input id='attrs-e940ffae-b411-47b0-9755-522d1b66ee1f' class='xr-var-attrs-in' type='checkbox' ><label for='attrs-e940ffae-b411-47b0-9755-522d1b66ee1f' title='Show/Hide attributes'><svg class='icon xr-icon-file-text2'><use xlink:href='#icon-file-text2'></use></svg></label><input id='data-490ea0cf-4565-42aa-9795-d3be93cf94fa' class='xr-var-data-in' type='checkbox'><label for='data-490ea0cf-4565-42aa-9795-d3be93cf94fa' title='Show/Hide data repr'><svg class='icon xr-icon-database'><use xlink:href='#icon-database'></use></svg></label><div class='xr-var-attrs'><dl class='xr-attrs'><dt><span>long_name :</span></dt><dd>Time</dd><dt><span>units :</span></dt><dd>Minutes</dd><dt><span>var_desc :</span></dt><dd>Minutes since 00UT</dd></dl></div><div class='xr-var-data'><pre>[24 values with dtype=float32]</pre></div></li><li class='xr-var-item'><div class='xr-var-name'><span>cldht</span></div><div class='xr-var-dims'>(Days, Hours, Latitudes, Longitudes)</div><div class='xr-var-dtype'>float32</div><div class='xr-var-preview xr-preview'>...</div><input id='attrs-0d8178fb-4498-4d58-ba9b-03c6bf8adec5' class='xr-var-attrs-in' type='checkbox' ><label for='attrs-0d8178fb-4498-4d58-ba9b-03c6bf8adec5' title='Show/Hide attributes'><svg class='icon xr-icon-file-text2'><use xlink:href='#icon-file-text2'></use></svg></label><input id='data-1830d1c1-46e2-475a-8b8a-fa14abe05a5f' class='xr-var-data-in' type='checkbox'><label for='data-1830d1c1-46e2-475a-8b8a-fa14abe05a5f' title='Show/Hide data repr'><svg class='icon xr-icon-database'><use xlink:href='#icon-database'></use></svg></label><div class='xr-var-attrs'><dl class='xr-attrs'><dt><span>long_name :</span></dt><dd>CNV_TOPZ</dd><dt><span>units :</span></dt><dd>km</dd><dt><span>var_desc :</span></dt><dd>cldht corresponding to CNV_TOPP </dd></dl></div><div class='xr-var-data'><pre>[44640000 values with dtype=float32]</pre></div></li></ul></div></li><li class='xr-section-item'><input id='section-dc42972f-c08d-457f-95cb-33fe094fd929' class='xr-section-summary-in' type='checkbox' disabled ><label for='section-dc42972f-c08d-457f-95cb-33fe094fd929' class='xr-section-summary'  title='Expand/collapse section'>Indexes: <span>(0)</span></label><div class='xr-section-inline-details'></div><div class='xr-section-details'><ul class='xr-var-list'></ul></div></li><li class='xr-section-item'><input id='section-7a63e50b-4b6d-4894-b98a-8975b98425a1' class='xr-section-summary-in' type='checkbox' disabled ><label for='section-7a63e50b-4b6d-4894-b98a-8975b98425a1' class='xr-section-summary'  title='Expand/collapse section'>Attributes: <span>(0)</span></label><div class='xr-section-inline-details'></div><div class='xr-section-details'><dl class='xr-attrs'></dl></div></li></ul></div></div>"
            ]
          },
          "metadata": {},
          "execution_count": 78
        }
      ]
    },
    {
      "cell_type": "code",
      "source": [
        "ds_glm.flashes.plot()\n",
        "plt.show()"
      ],
      "metadata": {
        "colab": {
          "base_uri": "https://localhost:8080/",
          "height": 481
        },
        "id": "ruQtS0gesBgu",
        "outputId": "343c2884-3169-49a2-a24b-70eb0fe3dc9b"
      },
      "execution_count": 80,
      "outputs": [
        {
          "output_type": "display_data",
          "data": {
            "text/plain": [
              "<Figure size 640x480 with 1 Axes>"
            ],
            "image/png": "[encoded data removed]"
          },
          "metadata": {}
        }
      ]
    },
    {
      "cell_type": "code",
      "source": [
        "ds_geos_cape.cape.plot()\n",
        "plt.show()"
      ],
      "metadata": {
        "colab": {
          "base_uri": "https://localhost:8080/",
          "height": 465
        },
        "id": "fh_-v5pstTvN",
        "outputId": "c6242523-57e1-44aa-b0dc-8c8d9df616d8"
      },
      "execution_count": 81,
      "outputs": [
        {
          "output_type": "display_data",
          "data": {
            "text/plain": [
              "<Figure size 640x480 with 1 Axes>"
            ],
            "image/png": "[encoded data removed]"
          },
          "metadata": {}
        }
      ]
    },
    {
      "cell_type": "code",
      "source": [
        "ds_geos_precon.precon.plot()\n",
        "plt.show()"
      ],
      "metadata": {
        "colab": {
          "base_uri": "https://localhost:8080/",
          "height": 465
        },
        "id": "AZSrM0Ax5VOL",
        "outputId": "739b7532-429a-474d-9c9d-c7fbd75ab64e"
      },
      "execution_count": 82,
      "outputs": [
        {
          "output_type": "display_data",
          "data": {
            "text/plain": [
              "<Figure size 640x480 with 1 Axes>"
            ],
            "image/png": "[encoded data removed]"
          },
          "metadata": {}
        }
      ]
    },
    {
      "cell_type": "code",
      "source": [
        "ds_geos_cldht.cldht.plot()\n",
        "plt.show()"
      ],
      "metadata": {
        "colab": {
          "base_uri": "https://localhost:8080/",
          "height": 465
        },
        "id": "wmkbillh5cfH",
        "outputId": "46db891d-3dc4-48f5-9bc1-553bc80ef645"
      },
      "execution_count": 83,
      "outputs": [
        {
          "output_type": "display_data",
          "data": {
            "text/plain": [
              "<Figure size 640x480 with 1 Axes>"
            ],
            "image/png": "[encoded data removed]"
          },
          "metadata": {}
        }
      ]
    },
    {
      "cell_type": "markdown",
      "source": [
        "# preprocess datetime thru lightningutil, select sample, and/or stack"
      ],
      "metadata": {
        "id": "04sYltdKeXZe"
      }
    },
    {
      "cell_type": "markdown",
      "source": [
        "##glm"
      ],
      "metadata": {
        "id": "lU32LtueenS2"
      }
    },
    {
      "cell_type": "code",
      "source": [
        "#stack glm data\n",
        "\n",
        "#lightningutil preprocessing stuff\n",
        "directory = '/content/drive/My Drive/colab/'\n",
        "filename = 'GLMmax_hrly_count_f.nominalq.UT.t201907.r180W-30W_50S-50N.nc'\n",
        "\n",
        "# open and preprocess coordinates\n",
        "ds_glm = lightningutil.open_and_preprocess(directory+filename,lightningutil.variables)"
      ],
      "metadata": {
        "id": "1mhqnDmzRtIx"
      },
      "execution_count": 5,
      "outputs": []
    },
    {
      "cell_type": "code",
      "source": [
        "#select range of lats/lons\n",
        "\n",
        "ds_glm = ds_glm.sel(Latitudes=slice(35, 45), Longitudes=slice(-105,-90))"
      ],
      "metadata": {
        "id": "YmDjJtxBRucF"
      },
      "execution_count": 6,
      "outputs": []
    },
    {
      "cell_type": "code",
      "source": [
        "ds_glm.shape"
      ],
      "metadata": {
        "colab": {
          "base_uri": "https://localhost:8080/"
        },
        "id": "0JLfb3n1xUoC",
        "outputId": "8e91a45f-5bf2-4432-9cbc-a1e74b656dfa"
      },
      "execution_count": 7,
      "outputs": [
        {
          "output_type": "execute_result",
          "data": {
            "text/plain": [
              "(20, 30, 744)"
            ]
          },
          "metadata": {},
          "execution_count": 7
        }
      ]
    },
    {
      "cell_type": "code",
      "source": [
        "#ds_glm_datetime = ds_glm.stack(point=(\"Longitudes\",\"Latitudes\",\"Datetime\")).Datetime.values"
      ],
      "metadata": {
        "id": "pKpE-pnUS0Er"
      },
      "execution_count": 166,
      "outputs": []
    },
    {
      "cell_type": "code",
      "source": [
        "# reshape into 1D array // select sample\n",
        "\n",
        "ds_glm_v2 = ds_glm.stack(point=(\"Longitudes\",\"Latitudes\",\"Datetime\")).values  #need this when selecting a range of lat/lons\n",
        "#ds_glm_v2 = ds_glm.sel(Latitudes=35.25, Longitudes=-90.25).values  #single sample test"
      ],
      "metadata": {
        "id": "UK8-26Y7tzlQ"
      },
      "execution_count": 8,
      "outputs": []
    },
    {
      "cell_type": "code",
      "source": [
        "ds_glm_v2.shape"
      ],
      "metadata": {
        "colab": {
          "base_uri": "https://localhost:8080/"
        },
        "id": "ArgO16g8AraU",
        "outputId": "124c7515-2bbc-4fa9-a126-c7355e00dd80"
      },
      "execution_count": 9,
      "outputs": [
        {
          "output_type": "execute_result",
          "data": {
            "text/plain": [
              "(446400,)"
            ]
          },
          "metadata": {},
          "execution_count": 9
        }
      ]
    },
    {
      "cell_type": "code",
      "source": [
        "ds_glm_v2"
      ],
      "metadata": {
        "id": "l5XAcJXg1UB5",
        "colab": {
          "base_uri": "https://localhost:8080/"
        },
        "outputId": "66e20923-35a5-45bf-924b-44f40c87dff7"
      },
      "execution_count": 13,
      "outputs": [
        {
          "output_type": "execute_result",
          "data": {
            "text/plain": [
              "array([0., 0., 0., ..., 0., 0., 0.], dtype=float32)"
            ]
          },
          "metadata": {},
          "execution_count": 13
        }
      ]
    },
    {
      "cell_type": "code",
      "source": [
        "#ds_glm_datetime.shape"
      ],
      "metadata": {
        "colab": {
          "base_uri": "https://localhost:8080/"
        },
        "id": "IWm3Cz0PTG5H",
        "outputId": "d50ed125-9064-4667-afa0-caa1572cf2fc"
      },
      "execution_count": 171,
      "outputs": [
        {
          "output_type": "execute_result",
          "data": {
            "text/plain": [
              "(446400,)"
            ]
          },
          "metadata": {},
          "execution_count": 171
        }
      ]
    },
    {
      "cell_type": "code",
      "source": [
        "#ds_glm_datetime"
      ],
      "metadata": {
        "colab": {
          "base_uri": "https://localhost:8080/"
        },
        "id": "1RkUwC0JTGw7",
        "outputId": "b7c13d57-743c-4d99-fc59-a807443f497c"
      },
      "execution_count": 172,
      "outputs": [
        {
          "output_type": "execute_result",
          "data": {
            "text/plain": [
              "array(['2019-07-01T01:00:00.000000000', '2019-07-01T02:00:00.000000000',\n",
              "       '2019-07-01T03:00:00.000000000', ...,\n",
              "       '2019-07-31T22:00:00.000000000', '2019-07-31T23:00:00.000000000',\n",
              "       '2019-08-01T00:00:00.000000000'], dtype='datetime64[ns]')"
            ]
          },
          "metadata": {},
          "execution_count": 172
        }
      ]
    },
    {
      "cell_type": "markdown",
      "source": [
        "##cape\n",
        "\n"
      ],
      "metadata": {
        "id": "89GJN79SfWTw"
      }
    },
    {
      "cell_type": "code",
      "source": [
        "#stack geos data\n",
        "\n",
        "#lightningutil preprocessing stuff\n",
        "directory = '/content/drive/My Drive/colab/'\n",
        "filename = 'GEOS_cape_hrly.UT.t201907.r180W-30W_50S-50N.nc'\n",
        "\n",
        "# open and preprocess coordinates\n",
        "ds_geos_cape = lightningutil.open_and_preprocess(directory+filename,lightningutil.variables)"
      ],
      "metadata": {
        "id": "SRpZjB8XzWDG"
      },
      "execution_count": 10,
      "outputs": []
    },
    {
      "cell_type": "code",
      "source": [
        "#select range of lats/lons\n",
        "\n",
        "ds_geos_cape = ds_geos_cape.sel(Latitudes=slice(35, 45), Longitudes=slice(-105,-90)) #Datetime=slice(2019-07-13T12:00:00.000000000,2019-07-13T23:00:00.000000000))"
      ],
      "metadata": {
        "id": "Po2uYCsNUHWt"
      },
      "execution_count": 11,
      "outputs": []
    },
    {
      "cell_type": "code",
      "source": [
        "ds_geos_cape.shape"
      ],
      "metadata": {
        "colab": {
          "base_uri": "https://localhost:8080/"
        },
        "id": "sKi6-V3jVN07",
        "outputId": "0ed56d03-ffc7-43fd-8766-ece622273636"
      },
      "execution_count": 12,
      "outputs": [
        {
          "output_type": "execute_result",
          "data": {
            "text/plain": [
              "(20, 30, 744)"
            ]
          },
          "metadata": {},
          "execution_count": 12
        }
      ]
    },
    {
      "cell_type": "code",
      "source": [
        "# reshape into 1D array // select sample\n",
        "\n",
        "ds_geos_cape_v2 = ds_geos_cape.stack(point=(\"Longitudes\",\"Latitudes\",\"Datetime\")).values\n",
        "#ds_geos_v2 = ds_geos.sel(Latitudes=35.25, Longitudes=-90.25).values\n",
        "#ds_geos_v2 = ds_geos.sel(Latitudes=46.25, Longitudes=-100.25).values"
      ],
      "metadata": {
        "id": "5_dN6AVQVKak"
      },
      "execution_count": 13,
      "outputs": []
    },
    {
      "cell_type": "code",
      "source": [
        "ds_geos_cape_v2.shape #needs to be the same as glm_v2"
      ],
      "metadata": {
        "colab": {
          "base_uri": "https://localhost:8080/"
        },
        "id": "cYqbvpctVQu0",
        "outputId": "da10ac1c-7734-4de5-d8e7-13af2a157a0d"
      },
      "execution_count": 14,
      "outputs": [
        {
          "output_type": "execute_result",
          "data": {
            "text/plain": [
              "(446400,)"
            ]
          },
          "metadata": {},
          "execution_count": 14
        }
      ]
    },
    {
      "cell_type": "markdown",
      "source": [
        "##precon\n"
      ],
      "metadata": {
        "id": "LzynbWUJ56LL"
      }
    },
    {
      "cell_type": "code",
      "source": [
        "#stack geos data\n",
        "\n",
        "#lightningutil preprocessing stuff\n",
        "directory = '/content/drive/My Drive/colab/'\n",
        "filename = 'GEOS_precon_hrly.UT.t201907.r180W-30W_50S-50N.nc'\n",
        "\n",
        "# open and preprocess coordinates\n",
        "ds_geos_precon = lightningutil.open_and_preprocess(directory+filename,lightningutil.variables)"
      ],
      "metadata": {
        "id": "7BM9bkPV55pb"
      },
      "execution_count": 15,
      "outputs": []
    },
    {
      "cell_type": "code",
      "source": [
        "ds_geos_precon = ds_geos_precon.sel(Latitudes=slice(35, 45), Longitudes=slice(-105,-90))"
      ],
      "metadata": {
        "id": "onzVvGpv6ISk"
      },
      "execution_count": 16,
      "outputs": []
    },
    {
      "cell_type": "code",
      "source": [
        "ds_geos_precon.shape"
      ],
      "metadata": {
        "colab": {
          "base_uri": "https://localhost:8080/"
        },
        "id": "WEvKUQq76yQi",
        "outputId": "a23024ee-9503-4508-c1ea-be73efa509b2"
      },
      "execution_count": 17,
      "outputs": [
        {
          "output_type": "execute_result",
          "data": {
            "text/plain": [
              "(20, 30, 744)"
            ]
          },
          "metadata": {},
          "execution_count": 17
        }
      ]
    },
    {
      "cell_type": "code",
      "source": [
        "# reshape into 1D array // select sample\n",
        "\n",
        "ds_geos_precon_v2 = ds_geos_precon.stack(point=(\"Longitudes\",\"Latitudes\",\"Datetime\")).values"
      ],
      "metadata": {
        "id": "XCAm4GLV65TZ"
      },
      "execution_count": 18,
      "outputs": []
    },
    {
      "cell_type": "code",
      "source": [
        "ds_geos_precon_v2.shape"
      ],
      "metadata": {
        "colab": {
          "base_uri": "https://localhost:8080/"
        },
        "id": "VospVi0Y6-BW",
        "outputId": "21b199e1-93c9-421e-b0a5-ddd740ec4ea1"
      },
      "execution_count": 19,
      "outputs": [
        {
          "output_type": "execute_result",
          "data": {
            "text/plain": [
              "(446400,)"
            ]
          },
          "metadata": {},
          "execution_count": 19
        }
      ]
    },
    {
      "cell_type": "markdown",
      "source": [
        "##cldht\n"
      ],
      "metadata": {
        "id": "4ffmTJuR7Crf"
      }
    },
    {
      "cell_type": "code",
      "source": [
        "#stack geos data\n",
        "\n",
        "#lightningutil preprocessing stuff\n",
        "directory = '/content/drive/My Drive/colab/'\n",
        "filename = 'GEOS_cldht_hrly.UT.t201907.r180W-30W_50S-50N.nc'\n",
        "\n",
        "# open and preprocess coordinates\n",
        "ds_geos_cldht = lightningutil.open_and_preprocess(directory+filename,lightningutil.variables)"
      ],
      "metadata": {
        "id": "DSROkhAw7GLK"
      },
      "execution_count": 20,
      "outputs": []
    },
    {
      "cell_type": "code",
      "source": [
        "ds_geos_cldht = ds_geos_cldht.sel(Latitudes=slice(35, 45), Longitudes=slice(-105,-90))"
      ],
      "metadata": {
        "id": "lUfabee67L3J"
      },
      "execution_count": 21,
      "outputs": []
    },
    {
      "cell_type": "code",
      "source": [
        "ds_geos_cldht.shape"
      ],
      "metadata": {
        "colab": {
          "base_uri": "https://localhost:8080/"
        },
        "id": "N0VgvWTn7T-L",
        "outputId": "ac5e5603-794b-4c44-c250-1f777277728d"
      },
      "execution_count": 22,
      "outputs": [
        {
          "output_type": "execute_result",
          "data": {
            "text/plain": [
              "(20, 30, 744)"
            ]
          },
          "metadata": {},
          "execution_count": 22
        }
      ]
    },
    {
      "cell_type": "code",
      "source": [
        "# reshape into 1D array // select sample\n",
        "\n",
        "ds_geos_cldht_v2 = ds_geos_cldht.stack(point=(\"Longitudes\",\"Latitudes\",\"Datetime\")).values"
      ],
      "metadata": {
        "id": "pAvs9bzC7YeP"
      },
      "execution_count": 23,
      "outputs": []
    },
    {
      "cell_type": "code",
      "source": [
        "ds_geos_cldht_v2.shape"
      ],
      "metadata": {
        "colab": {
          "base_uri": "https://localhost:8080/"
        },
        "id": "wgwepkvO7dE0",
        "outputId": "8d216311-012f-4932-d9cf-cc8c2cea8e0e"
      },
      "execution_count": 24,
      "outputs": [
        {
          "output_type": "execute_result",
          "data": {
            "text/plain": [
              "(446400,)"
            ]
          },
          "metadata": {},
          "execution_count": 24
        }
      ]
    },
    {
      "cell_type": "markdown",
      "source": [
        "## drop nans, zeroes, and mask data"
      ],
      "metadata": {
        "id": "z9T4kGy1fv_Y"
      }
    },
    {
      "cell_type": "markdown",
      "source": [
        "mask by glm"
      ],
      "metadata": {
        "id": "lzANFB_i922S"
      }
    },
    {
      "cell_type": "code",
      "source": [
        "# mask nans out by glm\n",
        "\n",
        "ds_geos_cldht_v2 = ds_geos_cldht_v2[~np.isnan(ds_glm_v2)] #mask cldht by glm\n",
        "ds_geos_precon_v2 = ds_geos_precon_v2[~np.isnan(ds_glm_v2)] #mask precon by glm\n",
        "ds_geos_cape_v2 = ds_geos_cape_v2[~np.isnan(ds_glm_v2)] #masking cape by glm\n",
        "#ds_glm_datetime = ds_glm_datetime[~np.isnan(ds_glm_v2)] #masking datetime by glm\n",
        "ds_glm_v2 = ds_glm_v2[~np.isnan(ds_glm_v2)] #msking glm by glm"
      ],
      "metadata": {
        "id": "jPsrOchoyPes"
      },
      "execution_count": 25,
      "outputs": []
    },
    {
      "cell_type": "code",
      "source": [
        "print(ds_geos_cape_v2.shape, ds_geos_precon_v2.shape, ds_glm_v2.shape, ds_geos_cldht_v2.shape) # ds_glm_datetime.shape,"
      ],
      "metadata": {
        "colab": {
          "base_uri": "https://localhost:8080/"
        },
        "id": "LucHz-HgDQBD",
        "outputId": "ee9fbbc7-562b-4992-b55c-82fe24541995"
      },
      "execution_count": 26,
      "outputs": [
        {
          "output_type": "stream",
          "name": "stdout",
          "text": [
            "(446400,) (446400,) (446400,) (446400,)\n"
          ]
        }
      ]
    },
    {
      "cell_type": "code",
      "source": [
        "# get rid of zeroes masked by glm > 0\n",
        "ds_geos_cldht_v2 = ds_geos_cldht_v2[ds_glm_v2>0.] #masking cldht by glm >0\n",
        "ds_geos_precon_v2 = ds_geos_precon_v2[ds_glm_v2>0.] #masking precon by glm >0\n",
        "ds_geos_cape_v2 = ds_geos_cape_v2[ds_glm_v2>0.] #masking geos cape by glm >0\n",
        "#ds_glm_datetime = ds_glm_datetime[ds_glm_v2>0.] #masking datetime\n",
        "ds_glm_v2 = ds_glm_v2[ds_glm_v2>0.] #masking glm by glm >0"
      ],
      "metadata": {
        "id": "Nc0_U14R1wi8"
      },
      "execution_count": 27,
      "outputs": []
    },
    {
      "cell_type": "code",
      "source": [
        "print(ds_geos_cape_v2.shape, ds_geos_precon_v2.shape, ds_glm_v2.shape, ds_geos_cldht_v2.shape) # ds_glm_datetime.shape,"
      ],
      "metadata": {
        "colab": {
          "base_uri": "https://localhost:8080/"
        },
        "id": "3q7tT36iDg4u",
        "outputId": "9f2cf1a9-708c-4af8-f326-1da31f9ac379"
      },
      "execution_count": 28,
      "outputs": [
        {
          "output_type": "stream",
          "name": "stdout",
          "text": [
            "(30445,) (30445,) (30445,) (30445,)\n"
          ]
        }
      ]
    },
    {
      "cell_type": "code",
      "source": [
        "ds."
      ],
      "metadata": {
        "id": "16N5NB1WE3og"
      },
      "execution_count": null,
      "outputs": []
    },
    {
      "cell_type": "markdown",
      "source": [
        "mask by cape"
      ],
      "metadata": {
        "id": "Ue9u3IvD96HE"
      }
    },
    {
      "cell_type": "code",
      "source": [
        "# mask nans out by geos cape\n",
        "\n",
        "ds_geos_cldht_v2 = ds_geos_cldht_v2[~np.isnan(ds_geos_cape_v2)] #mask cldht by cape\n",
        "ds_glm_v2 = ds_glm_v2[~np.isnan(ds_geos_cape_v2)] #masking glm by geos cape\n",
        "ds_geos_precon_v2 = ds_geos_precon_v2[~np.isnan(ds_geos_cape_v2)] #masking precon by cape\n",
        "#ds_glm_datetime = ds_glm_datetime[~np.isnan(ds_geos_cape_v2)] #masking datetime\n",
        "ds_geos_cape_v2 = ds_geos_cape_v2[~np.isnan(ds_geos_cape_v2)] #masking geos cape by geos cape"
      ],
      "metadata": {
        "id": "qctc5wAkzSkB"
      },
      "execution_count": 29,
      "outputs": []
    },
    {
      "cell_type": "code",
      "source": [
        "print(ds_geos_cape_v2.shape, ds_geos_precon_v2.shape, ds_glm_v2.shape, ds_geos_cldht_v2.shape) # ds_glm_datetime.shape,"
      ],
      "metadata": {
        "colab": {
          "base_uri": "https://localhost:8080/"
        },
        "id": "rT3kP3QbDt7Z",
        "outputId": "2e1e836a-b0f2-4469-f564-6dcf0f79bf0b"
      },
      "execution_count": 30,
      "outputs": [
        {
          "output_type": "stream",
          "name": "stdout",
          "text": [
            "(28896,) (28896,) (28896,) (28896,)\n"
          ]
        }
      ]
    },
    {
      "cell_type": "code",
      "source": [
        "# get rid of zeroes masked by cape > 0\n",
        "\n",
        "ds_geos_cldht_v2 = ds_geos_cldht_v2[ds_geos_cape_v2>0.] #mask cldht by cape >0\n",
        "ds_geos_precon_v2 = ds_geos_precon_v2[ds_geos_cape_v2>0.] #mask preco by cape >0\n",
        "ds_glm_v2 = ds_glm_v2[ds_geos_cape_v2>0.] #masking glm by geos cape >0\n",
        "#ds_glm_datetime = ds_glm_datetime[ds_geos_cape_v2>0.] #masking datetime\n",
        "ds_geos_cape_v2 = ds_geos_cape_v2[ds_geos_cape_v2>0.] #masking geos cape by geos cape >0"
      ],
      "metadata": {
        "id": "mWRnzoKr1WGY"
      },
      "execution_count": 31,
      "outputs": []
    },
    {
      "cell_type": "code",
      "source": [
        "print(ds_geos_cape_v2.shape, ds_geos_precon_v2.shape, ds_glm_v2.shape, ds_geos_cldht_v2.shape) # ds_glm_datetime.shape,"
      ],
      "metadata": {
        "colab": {
          "base_uri": "https://localhost:8080/"
        },
        "id": "mBfNiWlDD1Zx",
        "outputId": "d6620bd4-07d3-4c0b-daeb-521533ccc8ce"
      },
      "execution_count": 32,
      "outputs": [
        {
          "output_type": "stream",
          "name": "stdout",
          "text": [
            "(28896,) (28896,) (28896,) (28896,)\n"
          ]
        }
      ]
    },
    {
      "cell_type": "markdown",
      "source": [
        "mask by precon"
      ],
      "metadata": {
        "id": "O6fUA4CW98QY"
      }
    },
    {
      "cell_type": "code",
      "source": [
        "# mask nans out by precon\n",
        "\n",
        "ds_geos_cldht_v2 = ds_geos_cldht_v2[~np.isnan(ds_geos_precon_v2)] #mask cldht by precon\n",
        "ds_glm_v2 = ds_glm_v2[~np.isnan(ds_geos_precon_v2)] #masking glm by geos precon\n",
        "ds_geos_cape_v2 = ds_geos_cape_v2[~np.isnan(ds_geos_precon_v2)] #masking geos cape by geos precon\n",
        "#ds_glm_datetime = ds_glm_datetime[~np.isnan(ds_geos_precon_v2)] #masking datetime\n",
        "ds_geos_precon_v2 = ds_geos_precon_v2[~np.isnan(ds_geos_precon_v2)] #mask precon by precon"
      ],
      "metadata": {
        "id": "icXh7-Ds5Edb"
      },
      "execution_count": 33,
      "outputs": []
    },
    {
      "cell_type": "code",
      "source": [
        "print(ds_geos_cape_v2.shape, ds_geos_precon_v2.shape, ds_glm_v2.shape, ds_geos_cldht_v2.shape) # ds_glm_datetime.shape,"
      ],
      "metadata": {
        "colab": {
          "base_uri": "https://localhost:8080/"
        },
        "id": "TBsMyq0p9yBl",
        "outputId": "7c612573-ba1c-4c46-eb8c-f1f06a0e556c"
      },
      "execution_count": 34,
      "outputs": [
        {
          "output_type": "stream",
          "name": "stdout",
          "text": [
            "(28896,) (28896,) (28896,) (28896,)\n"
          ]
        }
      ]
    },
    {
      "cell_type": "code",
      "source": [
        "#get rid of zeroes masked by precon > 0\n",
        "\n",
        "ds_geos_cldht_v2 = ds_geos_cldht_v2[ds_geos_precon_v2>0.] #mask cldht by precon\n",
        "ds_glm_v2 = ds_glm_v2[ds_geos_precon_v2>0.] #masking glm by geos precon >0\n",
        "ds_geos_cape_v2 = ds_geos_cape_v2[ds_geos_precon_v2>0.] #masking geos cape by geos precon >0\n",
        "#ds_glm_datetime = ds_glm_datetime[ds_geos_precon_v2>0.] #masking datetime\n",
        "ds_geos_precon_v2 = ds_geos_precon_v2[ds_geos_precon_v2>0.] #mask precon by precon >0"
      ],
      "metadata": {
        "id": "PvXCMSnH5ET5"
      },
      "execution_count": 35,
      "outputs": []
    },
    {
      "cell_type": "code",
      "source": [
        "print(ds_geos_cape_v2.shape, ds_geos_precon_v2.shape, ds_glm_v2.shape, ds_geos_cldht_v2.shape) # ds_glm_datetime.shape,"
      ],
      "metadata": {
        "colab": {
          "base_uri": "https://localhost:8080/"
        },
        "id": "loSKwaQs6uBs",
        "outputId": "cbd26943-9e94-4f2c-e766-46133f2c9144"
      },
      "execution_count": 36,
      "outputs": [
        {
          "output_type": "stream",
          "name": "stdout",
          "text": [
            "(25960,) (25960,) (25960,) (25960,)\n"
          ]
        }
      ]
    },
    {
      "cell_type": "markdown",
      "source": [
        "mask by cldht"
      ],
      "metadata": {
        "id": "V65PY-cYASwc"
      }
    },
    {
      "cell_type": "code",
      "source": [
        "#mask nans by cldht\n",
        "\n",
        "ds_glm_v2 = ds_glm_v2[~np.isnan(ds_geos_cldht_v2)] #masking glm by geos cldht\n",
        "ds_geos_cape_v2 = ds_geos_cape_v2[~np.isnan(ds_geos_cldht_v2)] #masking geos cape by geos cldht\n",
        "ds_geos_precon_v2 = ds_geos_precon_v2[~np.isnan(ds_geos_cldht_v2)] #mask precon by cldht\n",
        "#ds_glm_datetime = ds_glm_datetime[~np.isnan(ds_geos_cldht_v2)] #masking datetime\n",
        "ds_geos_cldht_v2 = ds_geos_cldht_v2[~np.isnan(ds_geos_cldht_v2)] #mask cldht by cldht"
      ],
      "metadata": {
        "id": "7S-ehWVjAUc1"
      },
      "execution_count": 37,
      "outputs": []
    },
    {
      "cell_type": "code",
      "source": [
        "print(ds_geos_cape_v2.shape, ds_geos_precon_v2.shape, ds_glm_v2.shape, ds_geos_cldht_v2.shape) # ds_glm_datetime.shape,"
      ],
      "metadata": {
        "colab": {
          "base_uri": "https://localhost:8080/"
        },
        "id": "bIBzRPzLAuxF",
        "outputId": "40e6e0c7-dd35-4347-ab3f-96e66b012a5c"
      },
      "execution_count": 38,
      "outputs": [
        {
          "output_type": "stream",
          "name": "stdout",
          "text": [
            "(25960,) (25960,) (25960,) (25960,)\n"
          ]
        }
      ]
    },
    {
      "cell_type": "code",
      "source": [
        "#mask by cldht >0\n",
        "\n",
        "ds_glm_v2 = ds_glm_v2[ds_geos_cldht_v2>0.] #masking glm by geos precon >0\n",
        "ds_geos_cape_v2 = ds_geos_cape_v2[ds_geos_cldht_v2>0.] #masking geos cape by geos precon >0\n",
        "ds_geos_precon_v2 = ds_geos_precon_v2[ds_geos_cldht_v2>0.] #mask precon by precon >0\n",
        "#ds_glm_datetime = ds_glm_datetime[ds_geos_cldht_v2>0.] #masking datetime\n",
        "ds_geos_cldht_v2 = ds_geos_cldht_v2[ds_geos_cldht_v2>0.] #mask cldht by cldht >0"
      ],
      "metadata": {
        "id": "VZRbknwbAw4L"
      },
      "execution_count": 39,
      "outputs": []
    },
    {
      "cell_type": "code",
      "source": [
        "print(ds_geos_cape_v2.shape, ds_geos_precon_v2.shape, ds_glm_v2.shape, ds_geos_cldht_v2.shape) # ds_glm_datetime.shape,"
      ],
      "metadata": {
        "colab": {
          "base_uri": "https://localhost:8080/"
        },
        "id": "5rf7TJThBI6n",
        "outputId": "82a2d28b-121e-4cbd-e0db-7df0ef24260a"
      },
      "execution_count": 40,
      "outputs": [
        {
          "output_type": "stream",
          "name": "stdout",
          "text": [
            "(25960,) (25960,) (25960,) (25960,)\n"
          ]
        }
      ]
    },
    {
      "cell_type": "markdown",
      "source": [
        "## look at correlation scatter plots just for funsies"
      ],
      "metadata": {
        "id": "V_j1-66e-BPM"
      }
    },
    {
      "cell_type": "code",
      "source": [
        "import matplotlib.pyplot as mp\n",
        "mp.scatter(ds_glm_v2,ds_geos_cape_v2)\n",
        "mp.xlabel('GLM Flashes')\n",
        "mp.ylabel('CAPE')"
      ],
      "metadata": {
        "colab": {
          "base_uri": "https://localhost:8080/",
          "height": 467
        },
        "id": "3nZo52DC5PeR",
        "outputId": "00faef33-9ae7-40f3-9193-02824de1b815"
      },
      "execution_count": 51,
      "outputs": [
        {
          "output_type": "execute_result",
          "data": {
            "text/plain": [
              "Text(0, 0.5, 'CAPE')"
            ]
          },
          "metadata": {},
          "execution_count": 51
        },
        {
          "output_type": "display_data",
          "data": {
            "text/plain": [
              "<Figure size 640x480 with 1 Axes>"
            ],
            "image/png": "[encoded data removed]"
          },
          "metadata": {}
        }
      ]
    },
    {
      "cell_type": "code",
      "source": [
        "import matplotlib.pyplot as mp\n",
        "mp.scatter(ds_glm_v2,ds_geos_precon_v2)\n",
        "mp.xlabel('GLM Flashes')\n",
        "mp.ylabel('precon')"
      ],
      "metadata": {
        "colab": {
          "base_uri": "https://localhost:8080/",
          "height": 467
        },
        "id": "Hple4jdd5j2p",
        "outputId": "5dae59d1-8ed9-42da-f89c-4a54be10a30c"
      },
      "execution_count": 52,
      "outputs": [
        {
          "output_type": "execute_result",
          "data": {
            "text/plain": [
              "Text(0, 0.5, 'precon')"
            ]
          },
          "metadata": {},
          "execution_count": 52
        },
        {
          "output_type": "display_data",
          "data": {
            "text/plain": [
              "<Figure size 640x480 with 1 Axes>"
            ],
            "image/png": "[encoded data removed]"
          },
          "metadata": {}
        }
      ]
    },
    {
      "cell_type": "code",
      "source": [
        "import matplotlib.pyplot as mp\n",
        "mp.scatter(ds_glm_v2,ds_geos_cldht_v2)\n",
        "mp.xlabel('GLM Flashes')\n",
        "mp.ylabel('cldht')\n"
      ],
      "metadata": {
        "colab": {
          "base_uri": "https://localhost:8080/",
          "height": 467
        },
        "id": "x7rHW9P17aDW",
        "outputId": "da6256c4-4dfd-400a-932a-97c0c04eb901"
      },
      "execution_count": 53,
      "outputs": [
        {
          "output_type": "execute_result",
          "data": {
            "text/plain": [
              "Text(0, 0.5, 'cldht')"
            ]
          },
          "metadata": {},
          "execution_count": 53
        },
        {
          "output_type": "display_data",
          "data": {
            "text/plain": [
              "<Figure size 640x480 with 1 Axes>"
            ],
            "image/png": "[encoded data removed]"
          },
          "metadata": {}
        }
      ]
    },
    {
      "cell_type": "code",
      "source": [
        "import matplotlib.pyplot as mp\n",
        "mp.scatter(ds_geos_cape_v2,ds_geos_cldht_v2)\n",
        "mp.xlabel('cape')\n",
        "mp.ylabel('cldht')"
      ],
      "metadata": {
        "colab": {
          "base_uri": "https://localhost:8080/",
          "height": 467
        },
        "id": "cuj7jyAKCwIj",
        "outputId": "5fb09475-5b39-4209-d630-69997602af08"
      },
      "execution_count": 54,
      "outputs": [
        {
          "output_type": "execute_result",
          "data": {
            "text/plain": [
              "Text(0, 0.5, 'cldht')"
            ]
          },
          "metadata": {},
          "execution_count": 54
        },
        {
          "output_type": "display_data",
          "data": {
            "text/plain": [
              "<Figure size 640x480 with 1 Axes>"
            ],
            "image/png": "[encoded data removed]"
          },
          "metadata": {}
        }
      ]
    },
    {
      "cell_type": "code",
      "source": [
        "import matplotlib.pyplot as mp\n",
        "mp.scatter(ds_geos_cape_v2,ds_geos_precon_v2)\n",
        "mp.xlabel('cape')\n",
        "mp.ylabel('precon')"
      ],
      "metadata": {
        "colab": {
          "base_uri": "https://localhost:8080/",
          "height": 467
        },
        "id": "0uWGau4KC4U1",
        "outputId": "9ae381a6-3ebd-4051-aa99-08e47a6fd96d"
      },
      "execution_count": 55,
      "outputs": [
        {
          "output_type": "execute_result",
          "data": {
            "text/plain": [
              "Text(0, 0.5, 'precon')"
            ]
          },
          "metadata": {},
          "execution_count": 55
        },
        {
          "output_type": "display_data",
          "data": {
            "text/plain": [
              "<Figure size 640x480 with 1 Axes>"
            ],
            "image/png": "[encoded data removed]"
          },
          "metadata": {}
        }
      ]
    },
    {
      "cell_type": "code",
      "source": [
        "import matplotlib.pyplot as mp\n",
        "mp.scatter(ds_geos_precon_v2,ds_geos_cldht_v2)\n",
        "mp.xlabel('precon')\n",
        "mp.ylabel('cldht')"
      ],
      "metadata": {
        "colab": {
          "base_uri": "https://localhost:8080/",
          "height": 467
        },
        "id": "3AjWV48ZC8_0",
        "outputId": "a8fc8bdf-284a-4fa9-986b-3e68f57c6a8f"
      },
      "execution_count": 56,
      "outputs": [
        {
          "output_type": "execute_result",
          "data": {
            "text/plain": [
              "Text(0, 0.5, 'cldht')"
            ]
          },
          "metadata": {},
          "execution_count": 56
        },
        {
          "output_type": "display_data",
          "data": {
            "text/plain": [
              "<Figure size 640x480 with 1 Axes>"
            ],
            "image/png": "[encoded data removed]"
          },
          "metadata": {}
        }
      ]
    },
    {
      "cell_type": "markdown",
      "source": [
        "## Split into x/y train/test, see what they look like\n"
      ],
      "metadata": {
        "id": "zYWNJ75Thd-D"
      }
    },
    {
      "cell_type": "code",
      "source": [
        "data_input = np.stack([ds_geos_cape_v2, ds_geos_precon_v2, ds_geos_cldht_v2], axis = 1)"
      ],
      "metadata": {
        "id": "KXLegpVD7aGf"
      },
      "execution_count": 41,
      "outputs": []
    },
    {
      "cell_type": "code",
      "source": [
        "# split dataset into training and testing set\n",
        "from sklearn.model_selection import train_test_split\n",
        "\n",
        "X_train, X_test, y_train, y_test = train_test_split(\n",
        "    data_input,\n",
        "    ds_glm_v2,\n",
        "    test_size=0.3, # % of total data is test data\n",
        "    shuffle=False\n",
        "    )"
      ],
      "metadata": {
        "id": "wiRWt5nnuxqb"
      },
      "execution_count": 43,
      "outputs": []
    },
    {
      "cell_type": "code",
      "source": [
        "print(X_train.shape, X_test.shape, y_train.shape, y_test.shape)"
      ],
      "metadata": {
        "id": "iLQsMzE4uxxU",
        "colab": {
          "base_uri": "https://localhost:8080/"
        },
        "outputId": "1e0e40b8-218c-42ec-acf8-07ab22697cca"
      },
      "execution_count": 44,
      "outputs": [
        {
          "output_type": "stream",
          "name": "stdout",
          "text": [
            "(18172, 3) (7788, 3) (18172,) (7788,)\n"
          ]
        }
      ]
    },
    {
      "cell_type": "code",
      "source": [
        "#X_datetime_test = ds_glm_datetime[18172:]"
      ],
      "metadata": {
        "id": "dfff4i34UrZ-"
      },
      "execution_count": 210,
      "outputs": []
    },
    {
      "cell_type": "code",
      "source": [
        "from scipy import stats"
      ],
      "metadata": {
        "id": "bnuCqxhUGzJE"
      },
      "execution_count": 45,
      "outputs": []
    },
    {
      "cell_type": "code",
      "source": [
        "#plot training sets before normalization\n",
        "\n",
        "plt.hist(X_train[:, 0])\n",
        "plt.show()\n",
        "\n",
        "plt.hist(X_train[:, 1])\n",
        "plt.show()\n",
        "\n",
        "plt.hist(X_train[:, 2])\n",
        "plt.show()\n",
        "\n",
        "plt.hist(y_train[:])\n",
        "plt.show()"
      ],
      "metadata": {
        "colab": {
          "base_uri": "https://localhost:8080/",
          "height": 1000
        },
        "id": "B7FAnvm6HUMr",
        "outputId": "fb5e8bc5-2af8-4038-c05a-7aa6ee9c89e4"
      },
      "execution_count": 46,
      "outputs": [
        {
          "output_type": "display_data",
          "data": {
            "text/plain": [
              "<Figure size 640x480 with 1 Axes>"
            ],
            "image/png": "[encoded data removed]"
          },
          "metadata": {}
        },
        {
          "output_type": "display_data",
          "data": {
            "text/plain": [
              "<Figure size 640x480 with 1 Axes>"
            ],
            "image/png": "[encoded data removed]"
          },
          "metadata": {}
        },
        {
          "output_type": "display_data",
          "data": {
            "text/plain": [
              "<Figure size 640x480 with 1 Axes>"
            ],
            "image/png": "[encoded data removed]"
          },
          "metadata": {}
        },
        {
          "output_type": "display_data",
          "data": {
            "text/plain": [
              "<Figure size 640x480 with 1 Axes>"
            ],
            "image/png": "[encoded data removed]"
          },
          "metadata": {}
        }
      ]
    },
    {
      "cell_type": "code",
      "source": [
        "#plot training sets as a log function (lamda=0)\n",
        "\n",
        "plt.hist(stats.boxcox(X_train[:,0], lmbda=0))\n",
        "plt.show()\n",
        "\n",
        "plt.hist(stats.boxcox(X_train[:,1], lmbda=0))\n",
        "plt.show()\n",
        "\n",
        "plt.hist(stats.boxcox(X_train[:,2], lmbda=0))\n",
        "plt.show()\n",
        "\n",
        "plt.hist(stats.boxcox(y_train, lmbda=0))\n",
        "plt.show()"
      ],
      "metadata": {
        "colab": {
          "base_uri": "https://localhost:8080/",
          "height": 1000
        },
        "id": "5gjv1rZZG0dM",
        "outputId": "bc292558-e8ba-47d0-b4db-3a53d4c5feaa"
      },
      "execution_count": 47,
      "outputs": [
        {
          "output_type": "display_data",
          "data": {
            "text/plain": [
              "<Figure size 640x480 with 1 Axes>"
            ],
            "image/png": "[encoded data removed]"
          },
          "metadata": {}
        },
        {
          "output_type": "display_data",
          "data": {
            "text/plain": [
              "<Figure size 640x480 with 1 Axes>"
            ],
            "image/png": "[encoded data removed]"
          },
          "metadata": {}
        },
        {
          "output_type": "display_data",
          "data": {
            "text/plain": [
              "<Figure size 640x480 with 1 Axes>"
            ],
            "image/png": "[encoded data removed]"
          },
          "metadata": {}
        },
        {
          "output_type": "display_data",
          "data": {
            "text/plain": [
              "<Figure size 640x480 with 1 Axes>"
            ],
            "image/png": "[encoded data removed]"
          },
          "metadata": {}
        }
      ]
    },
    {
      "cell_type": "code",
      "source": [
        "from sklearn.preprocessing import StandardScaler\n",
        "from sklearn.preprocessing import MinMaxScaler"
      ],
      "metadata": {
        "id": "tD_uROhqW0Yx"
      },
      "execution_count": 48,
      "outputs": []
    },
    {
      "cell_type": "code",
      "source": [
        "scaler = MinMaxScaler()\n",
        "#scaler = StandardScaler()\n",
        "#scalerv2 = StandardScaler()"
      ],
      "metadata": {
        "id": "bYKvcUs1YMDU"
      },
      "execution_count": 49,
      "outputs": []
    },
    {
      "cell_type": "code",
      "source": [
        "X_train_transformed = scaler.fit_transform(X_train)"
      ],
      "metadata": {
        "id": "LLF2hK20tWx0"
      },
      "execution_count": 50,
      "outputs": []
    },
    {
      "cell_type": "code",
      "source": [
        "print(max(scaler.fit_transform(X_train)[:,0]), min(scaler.fit_transform(X_train)[:,0]))"
      ],
      "metadata": {
        "colab": {
          "base_uri": "https://localhost:8080/"
        },
        "id": "xzZeUE_DtloT",
        "outputId": "886c25f6-8daf-4f2c-9258-16022f17e300"
      },
      "execution_count": 51,
      "outputs": [
        {
          "output_type": "stream",
          "name": "stdout",
          "text": [
            "1.0 0.0\n"
          ]
        }
      ]
    },
    {
      "cell_type": "code",
      "source": [
        "print(max(scaler.fit_transform(X_train)[:,1]), min(scaler.fit_transform(X_train)[:,1]))"
      ],
      "metadata": {
        "colab": {
          "base_uri": "https://localhost:8080/"
        },
        "id": "_ZapZEjyt2Jm",
        "outputId": "21b48f49-95d6-4860-9e7e-2b6323ec0428"
      },
      "execution_count": 52,
      "outputs": [
        {
          "output_type": "stream",
          "name": "stdout",
          "text": [
            "1.0 0.0\n"
          ]
        }
      ]
    },
    {
      "cell_type": "code",
      "source": [
        "print(max(scaler.fit_transform(X_train)[:,2]), min(scaler.fit_transform(X_train)[:,2]))"
      ],
      "metadata": {
        "colab": {
          "base_uri": "https://localhost:8080/"
        },
        "id": "Hw9TU2vQt2CF",
        "outputId": "84ec978b-4cf3-491f-f908-7fb76f26a49a"
      },
      "execution_count": 53,
      "outputs": [
        {
          "output_type": "stream",
          "name": "stdout",
          "text": [
            "1.0 0.0\n"
          ]
        }
      ]
    },
    {
      "cell_type": "code",
      "source": [
        "# input\n",
        "#X_train_transformed = scaler.fit_transform(X_train.reshape(-1, 1))\n",
        "X_train_transformed = np.squeeze(X_train_transformed)\n",
        "\n",
        "# label\n",
        "y_train_transformed = stats.boxcox(y_train, lmbda=0)\n",
        "#y_train_transformed = scalerv2.fit_transform(y_train_transformed.reshape(-1, 1))"
      ],
      "metadata": {
        "id": "LZ58XmetJyx6"
      },
      "execution_count": 54,
      "outputs": []
    },
    {
      "cell_type": "code",
      "source": [
        "X_train_transformed.shape"
      ],
      "metadata": {
        "colab": {
          "base_uri": "https://localhost:8080/"
        },
        "id": "EMk9Qzp6EKrK",
        "outputId": "f099e489-0ea4-4e03-9ede-1ca6e30d8833"
      },
      "execution_count": 54,
      "outputs": [
        {
          "output_type": "execute_result",
          "data": {
            "text/plain": [
              "(18172, 3)"
            ]
          },
          "metadata": {},
          "execution_count": 54
        }
      ]
    },
    {
      "cell_type": "code",
      "source": [
        "plt.hist(X_train_transformed[:,0])\n",
        "plt.show()\n",
        "\n",
        "plt.hist(X_train_transformed[:,1])\n",
        "plt.show()\n",
        "\n",
        "plt.hist(X_train_transformed[:,2])\n",
        "plt.show()\n",
        "\n",
        "plt.hist(y_train_transformed)\n",
        "plt.show()"
      ],
      "metadata": {
        "colab": {
          "base_uri": "https://localhost:8080/",
          "height": 1000
        },
        "id": "2Nd0Z4W1xge7",
        "outputId": "d655f096-4842-4d22-f1a9-a823d0bb79dc"
      },
      "execution_count": 55,
      "outputs": [
        {
          "output_type": "display_data",
          "data": {
            "text/plain": [
              "<Figure size 640x480 with 1 Axes>"
            ],
            "image/png": "[encoded data removed]"
          },
          "metadata": {}
        },
        {
          "output_type": "display_data",
          "data": {
            "text/plain": [
              "<Figure size 640x480 with 1 Axes>"
            ],
            "image/png": "[encoded data removed]"
          },
          "metadata": {}
        },
        {
          "output_type": "display_data",
          "data": {
            "text/plain": [
              "<Figure size 640x480 with 1 Axes>"
            ],
            "image/png": "[encoded data removed]"
          },
          "metadata": {}
        },
        {
          "output_type": "display_data",
          "data": {
            "text/plain": [
              "<Figure size 640x480 with 1 Axes>"
            ],
            "image/png": "[encoded data removed]"
          },
          "metadata": {}
        }
      ]
    },
    {
      "cell_type": "code",
      "source": [],
      "metadata": {
        "id": "_bNZAhGG7U90"
      },
      "execution_count": 72,
      "outputs": []
    },
    {
      "cell_type": "markdown",
      "source": [
        "Now lets attempt the actual neural network\n"
      ],
      "metadata": {
        "id": "9AuLbnSN0zmo"
      }
    },
    {
      "cell_type": "code",
      "source": [
        "model = keras.Sequential() # instantiate model object\n",
        "\n",
        "# input layer (shape of data)\n",
        "model.add(\n",
        "    keras.Input(shape=(3,), name=\"input_layer\")) # update number of nodes to match number of variavles\n",
        "\n",
        "# first dense layer\n",
        "model.add(\n",
        "    keras.layers.Dense(units=8, activation=keras.activations.relu))\n",
        "\n",
        "#model.add(keras.layers.BatchNormalization())\n",
        "\n",
        "model.add(\n",
        "   keras.layers.Dense(units=8, activation=keras.activations.relu))\n",
        "\n",
        "#model.add(keras.layers.BatchNormalization())\n",
        "\n",
        "model.add(\n",
        "   keras.layers.Dense(units=8, activation=keras.activations.relu))\n",
        "\n",
        "#model.add(keras.layers.BatchNormalization())\n",
        "\n",
        "##### seems to work best with two relu layer, no batch normalization #####\n",
        "\n",
        "# output layer\n",
        "model.add(\n",
        "    keras.layers.Dense(units=1, activation=keras.activations.linear))"
      ],
      "metadata": {
        "id": "xlX3jMtl04c8"
      },
      "execution_count": 56,
      "outputs": []
    },
    {
      "cell_type": "code",
      "source": [
        "model.summary()"
      ],
      "metadata": {
        "colab": {
          "base_uri": "https://localhost:8080/"
        },
        "id": "umQSdHavdZqi",
        "outputId": "5a92ce5f-da89-4de5-f8bb-08d6f637541d"
      },
      "execution_count": 57,
      "outputs": [
        {
          "output_type": "stream",
          "name": "stdout",
          "text": [
            "Model: \"sequential\"\n",
            "_________________________________________________________________\n",
            " Layer (type)                Output Shape              Param #   \n",
            "=================================================================\n",
            " dense (Dense)               (None, 8)                 32        \n",
            "                                                                 \n",
            " dense_1 (Dense)             (None, 8)                 72        \n",
            "                                                                 \n",
            " dense_2 (Dense)             (None, 8)                 72        \n",
            "                                                                 \n",
            " dense_3 (Dense)             (None, 1)                 9         \n",
            "                                                                 \n",
            "=================================================================\n",
            "Total params: 185 (740.00 Byte)\n",
            "Trainable params: 185 (740.00 Byte)\n",
            "Non-trainable params: 0 (0.00 Byte)\n",
            "_________________________________________________________________\n"
          ]
        }
      ]
    },
    {
      "cell_type": "code",
      "source": [
        "model.compile(\n",
        "    optimizer=keras.optimizers.Adam(learning_rate=0.0001), ### LR = 0.01 seems to work best for single grid point #but 0.0001 works when sliced\n",
        "    loss='mse'\n",
        ")"
      ],
      "metadata": {
        "id": "UOoifhLZdYy1"
      },
      "execution_count": 58,
      "outputs": []
    },
    {
      "cell_type": "code",
      "source": [
        "history = model.fit(\n",
        "    x=X_train_transformed,\n",
        "    y=y_train_transformed,\n",
        "    batch_size=64, #32 seems to work well w/single pt, 64 for sliced pts\n",
        "    epochs=25,\n",
        "    verbose='auto',\n",
        "    validation_split=0.2,\n",
        "    validation_data=None,\n",
        "    shuffle=True,\n",
        "    class_weight=None,\n",
        "    sample_weight=None,\n",
        "    initial_epoch=0,\n",
        ")"
      ],
      "metadata": {
        "colab": {
          "base_uri": "https://localhost:8080/"
        },
        "id": "PS5c0aBwS4-A",
        "outputId": "480c0d8a-4913-4d48-97c2-6d04ea77fab2"
      },
      "execution_count": 59,
      "outputs": [
        {
          "output_type": "stream",
          "name": "stdout",
          "text": [
            "Epoch 1/25\n",
            "228/228 [==============================] - 3s 7ms/step - loss: 12.6182 - val_loss: 11.3932\n",
            "Epoch 2/25\n",
            "228/228 [==============================] - 1s 6ms/step - loss: 10.5833 - val_loss: 9.2614\n",
            "Epoch 3/25\n",
            "228/228 [==============================] - 1s 6ms/step - loss: 8.4705 - val_loss: 7.1153\n",
            "Epoch 4/25\n",
            "228/228 [==============================] - 2s 10ms/step - loss: 6.4151 - val_loss: 5.2852\n",
            "Epoch 5/25\n",
            "228/228 [==============================] - 2s 8ms/step - loss: 4.8098 - val_loss: 4.2439\n",
            "Epoch 6/25\n",
            "228/228 [==============================] - 1s 5ms/step - loss: 3.9681 - val_loss: 3.9916\n",
            "Epoch 7/25\n",
            "228/228 [==============================] - 1s 4ms/step - loss: 3.7217 - val_loss: 4.0323\n",
            "Epoch 8/25\n",
            "228/228 [==============================] - 1s 3ms/step - loss: 3.6838 - val_loss: 4.0689\n",
            "Epoch 9/25\n",
            "228/228 [==============================] - 1s 3ms/step - loss: 3.6789 - val_loss: 4.0679\n",
            "Epoch 10/25\n",
            "228/228 [==============================] - 1s 3ms/step - loss: 3.6771 - val_loss: 4.0760\n",
            "Epoch 11/25\n",
            "228/228 [==============================] - 1s 3ms/step - loss: 3.6760 - val_loss: 4.0691\n",
            "Epoch 12/25\n",
            "228/228 [==============================] - 1s 2ms/step - loss: 3.6749 - val_loss: 4.0629\n",
            "Epoch 13/25\n",
            "228/228 [==============================] - 1s 3ms/step - loss: 3.6736 - val_loss: 4.0713\n",
            "Epoch 14/25\n",
            "228/228 [==============================] - 1s 3ms/step - loss: 3.6725 - val_loss: 4.0663\n",
            "Epoch 15/25\n",
            "228/228 [==============================] - 1s 3ms/step - loss: 3.6713 - val_loss: 4.0635\n",
            "Epoch 16/25\n",
            "228/228 [==============================] - 1s 3ms/step - loss: 3.6705 - val_loss: 4.0665\n",
            "Epoch 17/25\n",
            "228/228 [==============================] - 1s 3ms/step - loss: 3.6686 - val_loss: 4.0338\n",
            "Epoch 18/25\n",
            "228/228 [==============================] - 1s 3ms/step - loss: 3.6684 - val_loss: 4.0425\n",
            "Epoch 19/25\n",
            "228/228 [==============================] - 1s 2ms/step - loss: 3.6671 - val_loss: 4.0511\n",
            "Epoch 20/25\n",
            "228/228 [==============================] - 1s 3ms/step - loss: 3.6659 - val_loss: 4.0379\n",
            "Epoch 21/25\n",
            "228/228 [==============================] - 1s 3ms/step - loss: 3.6641 - val_loss: 4.0180\n",
            "Epoch 22/25\n",
            "228/228 [==============================] - 1s 3ms/step - loss: 3.6642 - val_loss: 4.0370\n",
            "Epoch 23/25\n",
            "228/228 [==============================] - 1s 3ms/step - loss: 3.6620 - val_loss: 4.0501\n",
            "Epoch 24/25\n",
            "228/228 [==============================] - 1s 4ms/step - loss: 3.6620 - val_loss: 4.0254\n",
            "Epoch 25/25\n",
            "228/228 [==============================] - 1s 4ms/step - loss: 3.6607 - val_loss: 4.0336\n"
          ]
        }
      ]
    },
    {
      "cell_type": "code",
      "source": [
        "plt.plot(range(0,25), history.history['loss'], c='k', label = \"loss\")\n",
        "plt.plot(range(0,25), history.history['val_loss'], c='r', label = \"val_loss\")\n",
        "plt.xlabel(\"Epochs\")\n",
        "plt.ylabel(\"Loss\")\n",
        "plt.legend(loc=\"upper right\")\n",
        "plt.show()"
      ],
      "metadata": {
        "colab": {
          "base_uri": "https://localhost:8080/",
          "height": 449
        },
        "id": "ikHJaRRkS5Bd",
        "outputId": "c0de92bb-2e08-4f85-c019-59198364386c"
      },
      "execution_count": 60,
      "outputs": [
        {
          "output_type": "display_data",
          "data": {
            "text/plain": [
              "<Figure size 640x480 with 1 Axes>"
            ],
            "image/png": "[encoded data removed]"
          },
          "metadata": {}
        }
      ]
    },
    {
      "cell_type": "code",
      "source": [
        "# to predict, use predict call\n",
        "predictions = model.predict(\n",
        "    x=X_test,\n",
        ")"
      ],
      "metadata": {
        "id": "cjD6hTaMS5ET",
        "colab": {
          "base_uri": "https://localhost:8080/"
        },
        "outputId": "34275795-3345-4197-d7b7-00889d1883ed"
      },
      "execution_count": 61,
      "outputs": [
        {
          "output_type": "stream",
          "name": "stdout",
          "text": [
            "244/244 [==============================] - 1s 2ms/step\n"
          ]
        }
      ]
    },
    {
      "cell_type": "code",
      "source": [
        "predictions.shape[0]"
      ],
      "metadata": {
        "colab": {
          "base_uri": "https://localhost:8080/"
        },
        "id": "KG8qc6W5NJY5",
        "outputId": "0e8aa27e-47da-47f9-bb5d-65fc53b937d2"
      },
      "execution_count": 277,
      "outputs": [
        {
          "output_type": "execute_result",
          "data": {
            "text/plain": [
              "7788"
            ]
          },
          "metadata": {},
          "execution_count": 277
        }
      ]
    },
    {
      "cell_type": "code",
      "source": [
        "X_test.shape"
      ],
      "metadata": {
        "colab": {
          "base_uri": "https://localhost:8080/"
        },
        "id": "vYXjs2qQWYpK",
        "outputId": "f0945ad3-11db-4b96-84bc-a0c89708b8d0"
      },
      "execution_count": 278,
      "outputs": [
        {
          "output_type": "execute_result",
          "data": {
            "text/plain": [
              "(7788, 3)"
            ]
          },
          "metadata": {},
          "execution_count": 278
        }
      ]
    },
    {
      "cell_type": "code",
      "source": [
        "plt.scatter(y_test, predictions, c=X_test[:,2], cmap='winter', marker=\".\")\n",
        "plt.xlabel('Labels')\n",
        "plt.ylabel('Predictions')\n",
        "plt.title('Flash Predictions for Cloud Top Height')\n",
        "plt.colorbar(label='cldht [km]')\n",
        "plt.show()"
      ],
      "metadata": {
        "colab": {
          "base_uri": "https://localhost:8080/",
          "height": 472
        },
        "id": "5QIODZmgr2my",
        "outputId": "ed1a807a-6854-4b8f-a480-c3463804e5c4"
      },
      "execution_count": 73,
      "outputs": [
        {
          "output_type": "display_data",
          "data": {
            "text/plain": [
              "<Figure size 640x480 with 2 Axes>"
            ],
            "image/png": "[encoded data removed]"
          },
          "metadata": {}
        }
      ]
    },
    {
      "cell_type": "code",
      "source": [
        "# MSE\n",
        "# np.mean(square(y_true - y_pred))\n",
        "np.mean(np.square(y_train - predictions))"
      ],
      "metadata": {
        "colab": {
          "base_uri": "https://localhost:8080/"
        },
        "id": "vj5Vfawxr7K4",
        "outputId": "8968b2d7-d18d-45c4-d5c7-4182e12e5e20"
      },
      "execution_count": 72,
      "outputs": [
        {
          "output_type": "execute_result",
          "data": {
            "text/plain": [
              "7809419.0"
            ]
          },
          "metadata": {},
          "execution_count": 72
        }
      ]
    },
    {
      "cell_type": "code",
      "source": [
        "plt.plot(predictions)"
      ],
      "metadata": {
        "colab": {
          "base_uri": "https://localhost:8080/",
          "height": 448
        },
        "id": "6rO_wd7dNP9P",
        "outputId": "e1508046-19bf-4168-a299-71c13c636036"
      },
      "execution_count": 73,
      "outputs": [
        {
          "output_type": "execute_result",
          "data": {
            "text/plain": [
              "[<matplotlib.lines.Line2D at 0x7bb598106a70>]"
            ]
          },
          "metadata": {},
          "execution_count": 73
        },
        {
          "output_type": "display_data",
          "data": {
            "text/plain": [
              "<Figure size 640x480 with 1 Axes>"
            ],
            "image/png": "[encoded data removed]"
          },
          "metadata": {}
        }
      ]
    },
    {
      "cell_type": "code",
      "source": [
        "predictions.shape"
      ],
      "metadata": {
        "colab": {
          "base_uri": "https://localhost:8080/"
        },
        "id": "naC8Ze1XNiXU",
        "outputId": "449bde67-4e20-4296-cf97-56046d2d4bcc"
      },
      "execution_count": 211,
      "outputs": [
        {
          "output_type": "execute_result",
          "data": {
            "text/plain": [
              "(7788, 1)"
            ]
          },
          "metadata": {},
          "execution_count": 211
        }
      ]
    },
    {
      "cell_type": "code",
      "source": [
        "predictions[X_datetime_test==np.datetime64('2019-07-29T05:00:00.000000000')]"
      ],
      "metadata": {
        "colab": {
          "base_uri": "https://localhost:8080/"
        },
        "id": "Js1frn75Vn1y",
        "outputId": "41297318-829e-451f-e1cf-904dbf2271c0"
      },
      "execution_count": 219,
      "outputs": [
        {
          "output_type": "execute_result",
          "data": {
            "text/plain": [
              "array([[1522.3132 ],\n",
              "       [1698.7833 ],\n",
              "       [1892.8044 ],\n",
              "       [2067.1162 ],\n",
              "       [2147.92   ],\n",
              "       [ 894.516  ],\n",
              "       [1093.1399 ],\n",
              "       [1119.1934 ],\n",
              "       [1249.1908 ],\n",
              "       [1330.8162 ],\n",
              "       [1528.1877 ],\n",
              "       [1825.078  ],\n",
              "       [1187.9159 ],\n",
              "       [1145.9642 ],\n",
              "       [1101.4991 ],\n",
              "       [1124.1248 ],\n",
              "       [1137.5234 ],\n",
              "       [1394.7224 ],\n",
              "       [1062.0934 ],\n",
              "       [1104.8606 ],\n",
              "       [ 999.7254 ],\n",
              "       [ 987.828  ],\n",
              "       [1003.45825],\n",
              "       [1064.9425 ],\n",
              "       [1258.9489 ],\n",
              "       [ 749.3522 ],\n",
              "       [ 807.2086 ],\n",
              "       [ 883.5097 ],\n",
              "       [ 903.05707],\n",
              "       [1038.3507 ],\n",
              "       [1052.9438 ],\n",
              "       [1109.3986 ],\n",
              "       [ 716.41766],\n",
              "       [ 799.96063],\n",
              "       [ 846.716  ],\n",
              "       [ 884.6302 ],\n",
              "       [ 950.87384],\n",
              "       [ 809.70325],\n",
              "       [ 922.9182 ],\n",
              "       [ 960.9214 ],\n",
              "       [1054.8    ],\n",
              "       [1078.8136 ],\n",
              "       [1280.1212 ],\n",
              "       [ 841.9757 ],\n",
              "       [1563.0709 ],\n",
              "       [ 875.22217]], dtype=float32)"
            ]
          },
          "metadata": {},
          "execution_count": 219
        }
      ]
    },
    {
      "cell_type": "code",
      "source": [
        "X_datetime_test[X_datetime_test==np.datetime64('2019-07-29T05:00:00.000000000')]"
      ],
      "metadata": {
        "colab": {
          "base_uri": "https://localhost:8080/"
        },
        "id": "faP8_10YVFbF",
        "outputId": "e252c1f1-e329-49b8-97c1-be93f3b71847"
      },
      "execution_count": 218,
      "outputs": [
        {
          "output_type": "execute_result",
          "data": {
            "text/plain": [
              "array(['2019-07-29T05:00:00.000000000', '2019-07-29T05:00:00.000000000',\n",
              "       '2019-07-29T05:00:00.000000000', '2019-07-29T05:00:00.000000000',\n",
              "       '2019-07-29T05:00:00.000000000', '2019-07-29T05:00:00.000000000',\n",
              "       '2019-07-29T05:00:00.000000000', '2019-07-29T05:00:00.000000000',\n",
              "       '2019-07-29T05:00:00.000000000', '2019-07-29T05:00:00.000000000',\n",
              "       '2019-07-29T05:00:00.000000000', '2019-07-29T05:00:00.000000000',\n",
              "       '2019-07-29T05:00:00.000000000', '2019-07-29T05:00:00.000000000',\n",
              "       '2019-07-29T05:00:00.000000000', '2019-07-29T05:00:00.000000000',\n",
              "       '2019-07-29T05:00:00.000000000', '2019-07-29T05:00:00.000000000',\n",
              "       '2019-07-29T05:00:00.000000000', '2019-07-29T05:00:00.000000000',\n",
              "       '2019-07-29T05:00:00.000000000', '2019-07-29T05:00:00.000000000',\n",
              "       '2019-07-29T05:00:00.000000000', '2019-07-29T05:00:00.000000000',\n",
              "       '2019-07-29T05:00:00.000000000', '2019-07-29T05:00:00.000000000',\n",
              "       '2019-07-29T05:00:00.000000000', '2019-07-29T05:00:00.000000000',\n",
              "       '2019-07-29T05:00:00.000000000', '2019-07-29T05:00:00.000000000',\n",
              "       '2019-07-29T05:00:00.000000000', '2019-07-29T05:00:00.000000000',\n",
              "       '2019-07-29T05:00:00.000000000', '2019-07-29T05:00:00.000000000',\n",
              "       '2019-07-29T05:00:00.000000000', '2019-07-29T05:00:00.000000000',\n",
              "       '2019-07-29T05:00:00.000000000', '2019-07-29T05:00:00.000000000',\n",
              "       '2019-07-29T05:00:00.000000000', '2019-07-29T05:00:00.000000000',\n",
              "       '2019-07-29T05:00:00.000000000', '2019-07-29T05:00:00.000000000',\n",
              "       '2019-07-29T05:00:00.000000000', '2019-07-29T05:00:00.000000000',\n",
              "       '2019-07-29T05:00:00.000000000', '2019-07-29T05:00:00.000000000'],\n",
              "      dtype='datetime64[ns]')"
            ]
          },
          "metadata": {},
          "execution_count": 218
        }
      ]
    },
    {
      "cell_type": "code",
      "source": [
        "pd.date_range()"
      ],
      "metadata": {
        "id": "f_fTieIuV5r6"
      },
      "execution_count": null,
      "outputs": []
    },
    {
      "cell_type": "code",
      "source": [
        "np.unique(X_datetime_test)"
      ],
      "metadata": {
        "colab": {
          "base_uri": "https://localhost:8080/"
        },
        "id": "5IySrD5xVHuZ",
        "outputId": "a061c845-15f5-414c-d71d-ca68715fe1b9"
      },
      "execution_count": 222,
      "outputs": [
        {
          "output_type": "execute_result",
          "data": {
            "text/plain": [
              "array(['2019-07-01T01:00:00.000000000', '2019-07-01T02:00:00.000000000',\n",
              "       '2019-07-01T03:00:00.000000000', '2019-07-01T04:00:00.000000000',\n",
              "       '2019-07-01T05:00:00.000000000', '2019-07-01T06:00:00.000000000',\n",
              "       '2019-07-01T07:00:00.000000000', '2019-07-01T08:00:00.000000000',\n",
              "       '2019-07-01T09:00:00.000000000', '2019-07-01T10:00:00.000000000',\n",
              "       '2019-07-01T11:00:00.000000000', '2019-07-01T12:00:00.000000000',\n",
              "       '2019-07-01T14:00:00.000000000', '2019-07-01T15:00:00.000000000',\n",
              "       '2019-07-01T16:00:00.000000000', '2019-07-01T17:00:00.000000000',\n",
              "       '2019-07-01T18:00:00.000000000', '2019-07-01T19:00:00.000000000',\n",
              "       '2019-07-01T20:00:00.000000000', '2019-07-01T21:00:00.000000000',\n",
              "       '2019-07-01T22:00:00.000000000', '2019-07-01T23:00:00.000000000',\n",
              "       '2019-07-02T00:00:00.000000000', '2019-07-02T01:00:00.000000000',\n",
              "       '2019-07-02T02:00:00.000000000', '2019-07-02T03:00:00.000000000',\n",
              "       '2019-07-02T04:00:00.000000000', '2019-07-02T05:00:00.000000000',\n",
              "       '2019-07-02T06:00:00.000000000', '2019-07-02T07:00:00.000000000',\n",
              "       '2019-07-02T08:00:00.000000000', '2019-07-02T09:00:00.000000000',\n",
              "       '2019-07-02T10:00:00.000000000', '2019-07-02T11:00:00.000000000',\n",
              "       '2019-07-02T12:00:00.000000000', '2019-07-02T13:00:00.000000000',\n",
              "       '2019-07-02T14:00:00.000000000', '2019-07-02T15:00:00.000000000',\n",
              "       '2019-07-02T16:00:00.000000000', '2019-07-02T17:00:00.000000000',\n",
              "       '2019-07-02T18:00:00.000000000', '2019-07-02T19:00:00.000000000',\n",
              "       '2019-07-02T20:00:00.000000000', '2019-07-02T21:00:00.000000000',\n",
              "       '2019-07-02T22:00:00.000000000', '2019-07-02T23:00:00.000000000',\n",
              "       '2019-07-03T00:00:00.000000000', '2019-07-03T01:00:00.000000000',\n",
              "       '2019-07-03T02:00:00.000000000', '2019-07-03T03:00:00.000000000',\n",
              "       '2019-07-03T04:00:00.000000000', '2019-07-03T05:00:00.000000000',\n",
              "       '2019-07-03T06:00:00.000000000', '2019-07-03T07:00:00.000000000',\n",
              "       '2019-07-03T08:00:00.000000000', '2019-07-03T09:00:00.000000000',\n",
              "       '2019-07-03T10:00:00.000000000', '2019-07-03T11:00:00.000000000',\n",
              "       '2019-07-03T12:00:00.000000000', '2019-07-03T13:00:00.000000000',\n",
              "       '2019-07-03T14:00:00.000000000', '2019-07-03T15:00:00.000000000',\n",
              "       '2019-07-03T16:00:00.000000000', '2019-07-03T17:00:00.000000000',\n",
              "       '2019-07-03T18:00:00.000000000', '2019-07-03T19:00:00.000000000',\n",
              "       '2019-07-03T20:00:00.000000000', '2019-07-03T21:00:00.000000000',\n",
              "       '2019-07-03T22:00:00.000000000', '2019-07-03T23:00:00.000000000',\n",
              "       '2019-07-04T00:00:00.000000000', '2019-07-04T01:00:00.000000000',\n",
              "       '2019-07-04T02:00:00.000000000', '2019-07-04T03:00:00.000000000',\n",
              "       '2019-07-04T04:00:00.000000000', '2019-07-04T05:00:00.000000000',\n",
              "       '2019-07-04T06:00:00.000000000', '2019-07-04T07:00:00.000000000',\n",
              "       '2019-07-04T08:00:00.000000000', '2019-07-04T09:00:00.000000000',\n",
              "       '2019-07-04T10:00:00.000000000', '2019-07-04T11:00:00.000000000',\n",
              "       '2019-07-04T12:00:00.000000000', '2019-07-04T13:00:00.000000000',\n",
              "       '2019-07-04T14:00:00.000000000', '2019-07-04T15:00:00.000000000',\n",
              "       '2019-07-04T16:00:00.000000000', '2019-07-04T17:00:00.000000000',\n",
              "       '2019-07-04T18:00:00.000000000', '2019-07-04T19:00:00.000000000',\n",
              "       '2019-07-04T20:00:00.000000000', '2019-07-04T21:00:00.000000000',\n",
              "       '2019-07-04T22:00:00.000000000', '2019-07-04T23:00:00.000000000',\n",
              "       '2019-07-05T00:00:00.000000000', '2019-07-05T01:00:00.000000000',\n",
              "       '2019-07-05T02:00:00.000000000', '2019-07-05T03:00:00.000000000',\n",
              "       '2019-07-05T04:00:00.000000000', '2019-07-05T05:00:00.000000000',\n",
              "       '2019-07-05T06:00:00.000000000', '2019-07-05T07:00:00.000000000',\n",
              "       '2019-07-05T08:00:00.000000000', '2019-07-05T09:00:00.000000000',\n",
              "       '2019-07-05T10:00:00.000000000', '2019-07-05T11:00:00.000000000',\n",
              "       '2019-07-05T12:00:00.000000000', '2019-07-05T13:00:00.000000000',\n",
              "       '2019-07-05T14:00:00.000000000', '2019-07-05T15:00:00.000000000',\n",
              "       '2019-07-05T16:00:00.000000000', '2019-07-05T17:00:00.000000000',\n",
              "       '2019-07-05T18:00:00.000000000', '2019-07-05T19:00:00.000000000',\n",
              "       '2019-07-05T20:00:00.000000000', '2019-07-05T21:00:00.000000000',\n",
              "       '2019-07-05T22:00:00.000000000', '2019-07-05T23:00:00.000000000',\n",
              "       '2019-07-06T00:00:00.000000000', '2019-07-06T01:00:00.000000000',\n",
              "       '2019-07-06T02:00:00.000000000', '2019-07-06T03:00:00.000000000',\n",
              "       '2019-07-06T04:00:00.000000000', '2019-07-06T05:00:00.000000000',\n",
              "       '2019-07-06T06:00:00.000000000', '2019-07-06T07:00:00.000000000',\n",
              "       '2019-07-06T08:00:00.000000000', '2019-07-06T09:00:00.000000000',\n",
              "       '2019-07-06T10:00:00.000000000', '2019-07-06T11:00:00.000000000',\n",
              "       '2019-07-06T13:00:00.000000000', '2019-07-06T14:00:00.000000000',\n",
              "       '2019-07-06T15:00:00.000000000', '2019-07-06T16:00:00.000000000',\n",
              "       '2019-07-06T17:00:00.000000000', '2019-07-06T18:00:00.000000000',\n",
              "       '2019-07-06T19:00:00.000000000', '2019-07-06T20:00:00.000000000',\n",
              "       '2019-07-06T21:00:00.000000000', '2019-07-06T22:00:00.000000000',\n",
              "       '2019-07-06T23:00:00.000000000', '2019-07-07T00:00:00.000000000',\n",
              "       '2019-07-07T01:00:00.000000000', '2019-07-07T02:00:00.000000000',\n",
              "       '2019-07-07T03:00:00.000000000', '2019-07-07T04:00:00.000000000',\n",
              "       '2019-07-07T05:00:00.000000000', '2019-07-07T06:00:00.000000000',\n",
              "       '2019-07-07T18:00:00.000000000', '2019-07-07T19:00:00.000000000',\n",
              "       '2019-07-07T20:00:00.000000000', '2019-07-07T21:00:00.000000000',\n",
              "       '2019-07-07T22:00:00.000000000', '2019-07-07T23:00:00.000000000',\n",
              "       '2019-07-08T00:00:00.000000000', '2019-07-08T01:00:00.000000000',\n",
              "       '2019-07-08T02:00:00.000000000', '2019-07-08T09:00:00.000000000',\n",
              "       '2019-07-08T10:00:00.000000000', '2019-07-08T16:00:00.000000000',\n",
              "       '2019-07-08T17:00:00.000000000', '2019-07-08T18:00:00.000000000',\n",
              "       '2019-07-08T19:00:00.000000000', '2019-07-08T20:00:00.000000000',\n",
              "       '2019-07-08T21:00:00.000000000', '2019-07-08T22:00:00.000000000',\n",
              "       '2019-07-08T23:00:00.000000000', '2019-07-09T00:00:00.000000000',\n",
              "       '2019-07-09T01:00:00.000000000', '2019-07-09T02:00:00.000000000',\n",
              "       '2019-07-09T03:00:00.000000000', '2019-07-09T04:00:00.000000000',\n",
              "       '2019-07-09T11:00:00.000000000', '2019-07-09T12:00:00.000000000',\n",
              "       '2019-07-09T14:00:00.000000000', '2019-07-09T15:00:00.000000000',\n",
              "       '2019-07-09T16:00:00.000000000', '2019-07-09T17:00:00.000000000',\n",
              "       '2019-07-09T18:00:00.000000000', '2019-07-09T19:00:00.000000000',\n",
              "       '2019-07-09T20:00:00.000000000', '2019-07-09T21:00:00.000000000',\n",
              "       '2019-07-09T22:00:00.000000000', '2019-07-09T23:00:00.000000000',\n",
              "       '2019-07-10T00:00:00.000000000', '2019-07-10T01:00:00.000000000',\n",
              "       '2019-07-10T02:00:00.000000000', '2019-07-10T03:00:00.000000000',\n",
              "       '2019-07-10T04:00:00.000000000', '2019-07-10T05:00:00.000000000',\n",
              "       '2019-07-10T06:00:00.000000000', '2019-07-10T11:00:00.000000000',\n",
              "       '2019-07-10T12:00:00.000000000', '2019-07-10T13:00:00.000000000',\n",
              "       '2019-07-10T14:00:00.000000000', '2019-07-10T15:00:00.000000000',\n",
              "       '2019-07-10T16:00:00.000000000', '2019-07-10T17:00:00.000000000',\n",
              "       '2019-07-10T18:00:00.000000000', '2019-07-10T19:00:00.000000000',\n",
              "       '2019-07-10T20:00:00.000000000', '2019-07-10T21:00:00.000000000',\n",
              "       '2019-07-10T22:00:00.000000000', '2019-07-10T23:00:00.000000000',\n",
              "       '2019-07-11T00:00:00.000000000', '2019-07-11T01:00:00.000000000',\n",
              "       '2019-07-11T02:00:00.000000000', '2019-07-12T00:00:00.000000000',\n",
              "       '2019-07-12T16:00:00.000000000', '2019-07-12T17:00:00.000000000',\n",
              "       '2019-07-12T18:00:00.000000000', '2019-07-12T19:00:00.000000000',\n",
              "       '2019-07-12T20:00:00.000000000', '2019-07-12T21:00:00.000000000',\n",
              "       '2019-07-12T22:00:00.000000000', '2019-07-12T23:00:00.000000000',\n",
              "       '2019-07-13T00:00:00.000000000', '2019-07-13T01:00:00.000000000',\n",
              "       '2019-07-13T10:00:00.000000000', '2019-07-13T11:00:00.000000000',\n",
              "       '2019-07-13T12:00:00.000000000', '2019-07-13T13:00:00.000000000',\n",
              "       '2019-07-13T14:00:00.000000000', '2019-07-13T15:00:00.000000000',\n",
              "       '2019-07-13T16:00:00.000000000', '2019-07-13T19:00:00.000000000',\n",
              "       '2019-07-13T20:00:00.000000000', '2019-07-13T21:00:00.000000000',\n",
              "       '2019-07-13T22:00:00.000000000', '2019-07-13T23:00:00.000000000',\n",
              "       '2019-07-14T00:00:00.000000000', '2019-07-14T01:00:00.000000000',\n",
              "       '2019-07-14T02:00:00.000000000', '2019-07-14T03:00:00.000000000',\n",
              "       '2019-07-14T04:00:00.000000000', '2019-07-14T05:00:00.000000000',\n",
              "       '2019-07-14T06:00:00.000000000', '2019-07-14T18:00:00.000000000',\n",
              "       '2019-07-14T19:00:00.000000000', '2019-07-14T20:00:00.000000000',\n",
              "       '2019-07-14T21:00:00.000000000', '2019-07-14T22:00:00.000000000',\n",
              "       '2019-07-14T23:00:00.000000000', '2019-07-15T00:00:00.000000000',\n",
              "       '2019-07-15T01:00:00.000000000', '2019-07-15T02:00:00.000000000',\n",
              "       '2019-07-15T03:00:00.000000000', '2019-07-15T04:00:00.000000000',\n",
              "       '2019-07-15T05:00:00.000000000', '2019-07-15T06:00:00.000000000',\n",
              "       '2019-07-15T07:00:00.000000000', '2019-07-15T09:00:00.000000000',\n",
              "       '2019-07-15T10:00:00.000000000', '2019-07-15T11:00:00.000000000',\n",
              "       '2019-07-15T16:00:00.000000000', '2019-07-15T18:00:00.000000000',\n",
              "       '2019-07-15T19:00:00.000000000', '2019-07-15T20:00:00.000000000',\n",
              "       '2019-07-15T21:00:00.000000000', '2019-07-15T22:00:00.000000000',\n",
              "       '2019-07-15T23:00:00.000000000', '2019-07-16T00:00:00.000000000',\n",
              "       '2019-07-16T01:00:00.000000000', '2019-07-16T02:00:00.000000000',\n",
              "       '2019-07-16T03:00:00.000000000', '2019-07-16T04:00:00.000000000',\n",
              "       '2019-07-16T05:00:00.000000000', '2019-07-16T06:00:00.000000000',\n",
              "       '2019-07-16T07:00:00.000000000', '2019-07-16T08:00:00.000000000',\n",
              "       '2019-07-16T09:00:00.000000000', '2019-07-16T10:00:00.000000000',\n",
              "       '2019-07-16T11:00:00.000000000', '2019-07-16T12:00:00.000000000',\n",
              "       '2019-07-16T13:00:00.000000000', '2019-07-16T14:00:00.000000000',\n",
              "       '2019-07-16T15:00:00.000000000', '2019-07-16T16:00:00.000000000',\n",
              "       '2019-07-16T17:00:00.000000000', '2019-07-16T18:00:00.000000000',\n",
              "       '2019-07-16T19:00:00.000000000', '2019-07-16T20:00:00.000000000',\n",
              "       '2019-07-16T21:00:00.000000000', '2019-07-16T22:00:00.000000000',\n",
              "       '2019-07-16T23:00:00.000000000', '2019-07-17T00:00:00.000000000',\n",
              "       '2019-07-17T01:00:00.000000000', '2019-07-17T02:00:00.000000000',\n",
              "       '2019-07-17T03:00:00.000000000', '2019-07-17T04:00:00.000000000',\n",
              "       '2019-07-17T05:00:00.000000000', '2019-07-17T06:00:00.000000000',\n",
              "       '2019-07-17T07:00:00.000000000', '2019-07-17T14:00:00.000000000',\n",
              "       '2019-07-17T15:00:00.000000000', '2019-07-17T16:00:00.000000000',\n",
              "       '2019-07-17T17:00:00.000000000', '2019-07-17T18:00:00.000000000',\n",
              "       '2019-07-17T19:00:00.000000000', '2019-07-17T20:00:00.000000000',\n",
              "       '2019-07-17T21:00:00.000000000', '2019-07-17T22:00:00.000000000',\n",
              "       '2019-07-17T23:00:00.000000000', '2019-07-18T00:00:00.000000000',\n",
              "       '2019-07-18T01:00:00.000000000', '2019-07-18T02:00:00.000000000',\n",
              "       '2019-07-18T03:00:00.000000000', '2019-07-18T04:00:00.000000000',\n",
              "       '2019-07-18T05:00:00.000000000', '2019-07-18T06:00:00.000000000',\n",
              "       '2019-07-18T07:00:00.000000000', '2019-07-18T08:00:00.000000000',\n",
              "       '2019-07-18T09:00:00.000000000', '2019-07-18T10:00:00.000000000',\n",
              "       '2019-07-18T11:00:00.000000000', '2019-07-18T12:00:00.000000000',\n",
              "       '2019-07-18T13:00:00.000000000', '2019-07-18T14:00:00.000000000',\n",
              "       '2019-07-18T15:00:00.000000000', '2019-07-18T16:00:00.000000000',\n",
              "       '2019-07-18T17:00:00.000000000', '2019-07-18T19:00:00.000000000',\n",
              "       '2019-07-18T22:00:00.000000000', '2019-07-18T23:00:00.000000000',\n",
              "       '2019-07-19T00:00:00.000000000', '2019-07-19T01:00:00.000000000',\n",
              "       '2019-07-19T02:00:00.000000000', '2019-07-19T03:00:00.000000000',\n",
              "       '2019-07-19T04:00:00.000000000', '2019-07-19T05:00:00.000000000',\n",
              "       '2019-07-19T06:00:00.000000000', '2019-07-19T07:00:00.000000000',\n",
              "       '2019-07-19T08:00:00.000000000', '2019-07-19T09:00:00.000000000',\n",
              "       '2019-07-19T10:00:00.000000000', '2019-07-19T11:00:00.000000000',\n",
              "       '2019-07-19T22:00:00.000000000', '2019-07-19T23:00:00.000000000',\n",
              "       '2019-07-20T00:00:00.000000000', '2019-07-20T01:00:00.000000000',\n",
              "       '2019-07-20T02:00:00.000000000', '2019-07-20T06:00:00.000000000',\n",
              "       '2019-07-20T07:00:00.000000000', '2019-07-20T10:00:00.000000000',\n",
              "       '2019-07-20T11:00:00.000000000', '2019-07-20T12:00:00.000000000',\n",
              "       '2019-07-20T13:00:00.000000000', '2019-07-20T14:00:00.000000000',\n",
              "       '2019-07-20T15:00:00.000000000', '2019-07-20T16:00:00.000000000',\n",
              "       '2019-07-20T17:00:00.000000000', '2019-07-20T18:00:00.000000000',\n",
              "       '2019-07-20T19:00:00.000000000', '2019-07-20T20:00:00.000000000',\n",
              "       '2019-07-20T21:00:00.000000000', '2019-07-20T22:00:00.000000000',\n",
              "       '2019-07-20T23:00:00.000000000', '2019-07-21T00:00:00.000000000',\n",
              "       '2019-07-21T01:00:00.000000000', '2019-07-21T02:00:00.000000000',\n",
              "       '2019-07-21T03:00:00.000000000', '2019-07-21T04:00:00.000000000',\n",
              "       '2019-07-21T05:00:00.000000000', '2019-07-21T06:00:00.000000000',\n",
              "       '2019-07-21T07:00:00.000000000', '2019-07-21T08:00:00.000000000',\n",
              "       '2019-07-21T09:00:00.000000000', '2019-07-21T10:00:00.000000000',\n",
              "       '2019-07-21T11:00:00.000000000', '2019-07-21T12:00:00.000000000',\n",
              "       '2019-07-21T17:00:00.000000000', '2019-07-21T18:00:00.000000000',\n",
              "       '2019-07-21T21:00:00.000000000', '2019-07-21T22:00:00.000000000',\n",
              "       '2019-07-21T23:00:00.000000000', '2019-07-22T00:00:00.000000000',\n",
              "       '2019-07-22T01:00:00.000000000', '2019-07-22T02:00:00.000000000',\n",
              "       '2019-07-22T03:00:00.000000000', '2019-07-22T04:00:00.000000000',\n",
              "       '2019-07-22T05:00:00.000000000', '2019-07-22T06:00:00.000000000',\n",
              "       '2019-07-22T07:00:00.000000000', '2019-07-22T08:00:00.000000000',\n",
              "       '2019-07-22T09:00:00.000000000', '2019-07-22T10:00:00.000000000',\n",
              "       '2019-07-22T11:00:00.000000000', '2019-07-22T14:00:00.000000000',\n",
              "       '2019-07-22T15:00:00.000000000', '2019-07-22T16:00:00.000000000',\n",
              "       '2019-07-22T17:00:00.000000000', '2019-07-22T18:00:00.000000000',\n",
              "       '2019-07-22T19:00:00.000000000', '2019-07-22T20:00:00.000000000',\n",
              "       '2019-07-22T21:00:00.000000000', '2019-07-22T22:00:00.000000000',\n",
              "       '2019-07-23T20:00:00.000000000', '2019-07-23T21:00:00.000000000',\n",
              "       '2019-07-23T22:00:00.000000000', '2019-07-23T23:00:00.000000000',\n",
              "       '2019-07-24T00:00:00.000000000', '2019-07-24T01:00:00.000000000',\n",
              "       '2019-07-24T02:00:00.000000000', '2019-07-24T03:00:00.000000000',\n",
              "       '2019-07-24T21:00:00.000000000', '2019-07-24T22:00:00.000000000',\n",
              "       '2019-07-24T23:00:00.000000000', '2019-07-25T00:00:00.000000000',\n",
              "       '2019-07-26T12:00:00.000000000', '2019-07-26T13:00:00.000000000',\n",
              "       '2019-07-26T14:00:00.000000000', '2019-07-26T15:00:00.000000000',\n",
              "       '2019-07-26T17:00:00.000000000', '2019-07-26T18:00:00.000000000',\n",
              "       '2019-07-27T00:00:00.000000000', '2019-07-27T01:00:00.000000000',\n",
              "       '2019-07-27T02:00:00.000000000', '2019-07-27T03:00:00.000000000',\n",
              "       '2019-07-27T04:00:00.000000000', '2019-07-27T05:00:00.000000000',\n",
              "       '2019-07-27T06:00:00.000000000', '2019-07-27T07:00:00.000000000',\n",
              "       '2019-07-27T08:00:00.000000000', '2019-07-27T09:00:00.000000000',\n",
              "       '2019-07-27T11:00:00.000000000', '2019-07-27T12:00:00.000000000',\n",
              "       '2019-07-27T13:00:00.000000000', '2019-07-27T14:00:00.000000000',\n",
              "       '2019-07-27T15:00:00.000000000', '2019-07-27T16:00:00.000000000',\n",
              "       '2019-07-27T17:00:00.000000000', '2019-07-27T18:00:00.000000000',\n",
              "       '2019-07-27T19:00:00.000000000', '2019-07-27T20:00:00.000000000',\n",
              "       '2019-07-28T00:00:00.000000000', '2019-07-28T01:00:00.000000000',\n",
              "       '2019-07-28T02:00:00.000000000', '2019-07-28T03:00:00.000000000',\n",
              "       '2019-07-28T12:00:00.000000000', '2019-07-28T13:00:00.000000000',\n",
              "       '2019-07-28T14:00:00.000000000', '2019-07-28T15:00:00.000000000',\n",
              "       '2019-07-28T16:00:00.000000000', '2019-07-28T17:00:00.000000000',\n",
              "       '2019-07-28T18:00:00.000000000', '2019-07-28T19:00:00.000000000',\n",
              "       '2019-07-28T20:00:00.000000000', '2019-07-28T21:00:00.000000000',\n",
              "       '2019-07-28T22:00:00.000000000', '2019-07-28T23:00:00.000000000',\n",
              "       '2019-07-29T00:00:00.000000000', '2019-07-29T01:00:00.000000000',\n",
              "       '2019-07-29T02:00:00.000000000', '2019-07-29T03:00:00.000000000',\n",
              "       '2019-07-29T04:00:00.000000000', '2019-07-29T05:00:00.000000000',\n",
              "       '2019-07-29T06:00:00.000000000', '2019-07-29T07:00:00.000000000',\n",
              "       '2019-07-29T08:00:00.000000000', '2019-07-29T09:00:00.000000000',\n",
              "       '2019-07-29T10:00:00.000000000', '2019-07-29T11:00:00.000000000',\n",
              "       '2019-07-29T12:00:00.000000000', '2019-07-29T13:00:00.000000000',\n",
              "       '2019-07-29T14:00:00.000000000', '2019-07-29T15:00:00.000000000',\n",
              "       '2019-07-29T16:00:00.000000000', '2019-07-29T17:00:00.000000000',\n",
              "       '2019-07-29T18:00:00.000000000', '2019-07-29T19:00:00.000000000',\n",
              "       '2019-07-29T20:00:00.000000000', '2019-07-29T21:00:00.000000000',\n",
              "       '2019-07-29T22:00:00.000000000', '2019-07-29T23:00:00.000000000',\n",
              "       '2019-07-30T00:00:00.000000000', '2019-07-30T01:00:00.000000000',\n",
              "       '2019-07-30T02:00:00.000000000', '2019-07-30T03:00:00.000000000',\n",
              "       '2019-07-30T04:00:00.000000000', '2019-07-30T21:00:00.000000000',\n",
              "       '2019-07-31T21:00:00.000000000', '2019-07-31T22:00:00.000000000',\n",
              "       '2019-07-31T23:00:00.000000000', '2019-08-01T00:00:00.000000000'],\n",
              "      dtype='datetime64[ns]')"
            ]
          },
          "metadata": {},
          "execution_count": 222
        }
      ]
    },
    {
      "cell_type": "code",
      "source": [],
      "metadata": {
        "id": "PbbMUqNkV1Je"
      },
      "execution_count": null,
      "outputs": []
    }
  ]
}